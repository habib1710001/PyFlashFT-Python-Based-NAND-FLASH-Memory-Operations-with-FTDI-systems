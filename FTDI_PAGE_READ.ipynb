{
 "cells": [
  {
   "cell_type": "markdown",
   "id": "3473b9ca",
   "metadata": {},
   "source": [
    "# Decode Linear Page Address to Page, Block, Plane Index"
   ]
  },
  {
   "cell_type": "code",
   "execution_count": 27,
   "id": "2835a960",
   "metadata": {},
   "outputs": [],
   "source": [
    "def decode_page_address(page_address: int, pages_per_block: int, planes: int) -> tuple[int, int, int]:\n",
    "    \"\"\"\n",
    "    Decode a linear page address into (page, block, plane_index)\n",
    "    \n",
    "    :param page_address:     The straight page address.\n",
    "    :param pages_per_block:  Number of pages in each block.\n",
    "    :param planes:           Number of planes (1, 2, 4, ...).\n",
    "    \n",
    "    :return: (page, block, plane_index)\n",
    "    \"\"\"\n",
    "    # 1) Extract 'page' within a block:\n",
    "    page = page_address % pages_per_block\n",
    "    \n",
    "    # 2) Remove 'page' bits to get the combined block/plane field:\n",
    "    block_plane_field = page_address // pages_per_block\n",
    "    \n",
    "    # 3) Extract 'plane_index' from the lower bits:\n",
    "    #    plane_index = (block_plane_field mod planes) \n",
    "    #    because if planes=2 => 1 bit; if planes=4 => 2 bits, etc.\n",
    "    plane_index = block_plane_field % planes\n",
    "    \n",
    "    # 4) \"pure block\" index :\n",
    "    block = block_plane_field\n",
    "    \n",
    "    #    If you prefer to keep plane bits inside 'block', then do:\n",
    "    # block = block_plane_field\n",
    "    \n",
    "    return (page, block, plane_index)"
   ]
  },
  {
   "cell_type": "code",
   "execution_count": 28,
   "id": "a29576dc",
   "metadata": {},
   "outputs": [
    {
     "name": "stdout",
     "output_type": "stream",
     "text": [
      "Address 100 => Page 100, Block 0, Plane 0\n"
     ]
    }
   ],
   "source": [
    "linearPageAddress = 100\n",
    "pagesPerBlock = 1024\n",
    "NumberOfPlane = 4\n",
    "\n",
    "pageX, blockX, planeX = decode_page_address(linearPageAddress, pagesPerBlock, NumberOfPlane)\n",
    "\n",
    "print(f\"Address {linearPageAddress} => Page {pageX}, Block {blockX}, Plane {planeX}\")"
   ]
  },
  {
   "cell_type": "markdown",
   "id": "696bd854",
   "metadata": {},
   "source": [
    "# BUILD ADDRESS (5 Cycles)"
   ]
  },
  {
   "cell_type": "code",
   "execution_count": 29,
   "id": "78326fb2",
   "metadata": {},
   "outputs": [],
   "source": [
    "def build_5_cycle_address(column: int, page: int, block: int, plane: int, lun: int) -> list[int]:\n",
    "    \"\"\"\n",
    "    Build 5 address cycles (bytes) according to the layout:\n",
    "    1) Column address (16 bits):\n",
    "       - Cycle 1 => column[7..0]\n",
    "       - Cycle 2 => column[15..8]\n",
    "    2) Page address (10 bits total):\n",
    "       - Cycle 3 => page[7..0]        (lowest 8 bits)\n",
    "       - Cycle 4 => page[9..8]       (bits [1..0])\n",
    "    3) Plane (2 bits), embedded in BA[11..10]:\n",
    "       - Cycle 4 bits [3..2] => plane[1..0]\n",
    "    4) Block address (10 bits), combined with plane bits => total 12 bits:\n",
    "       - Cycle 4 bits [7..4] => block[3..0]   (changed as requested)\n",
    "       - Cycle 5 bits [5..0] => block[9..4]   (changed as requested)\n",
    "    5) LUN (1 bit):\n",
    "       - Cycle 5 bit [6] => lun\n",
    "    :param column: up to 16 bits (0..65535)\n",
    "    :param page:   up to 10 bits (0..1023)\n",
    "    :param block:  up to 10 bits (0..1023) – plane bits separate\n",
    "    :param plane:  0..3 (2 bits)\n",
    "    :param lun:    0..1 (1 bit)\n",
    "    :return: List of 5 bytes [cycle1..cycle5].\n",
    "    \"\"\"\n",
    "\n",
    "    # ---------------------\n",
    "    # Cycle 1 => lower 8 bits of column\n",
    "    # Cycle 2 => upper 8 bits of column\n",
    "    # ---------------------\n",
    "    c1 = column & 0xFF\n",
    "    c2 = (column >> 8) & 0xFF\n",
    "    \n",
    "    # ---------------------\n",
    "    # Cycle 3 => lower 8 bits of page: page[7..0]\n",
    "    # ---------------------\n",
    "    c3 = page & 0xFF\n",
    "    \n",
    "    # ---------------------\n",
    "    # Cycle 4 => c4[7..0]:\n",
    "    #   bits[7..4] -> block[3..0] \n",
    "    #   bits[3..2] -> plane[1..0]\n",
    "    #   bits[1..0] -> page[9..8]\n",
    "    # ---------------------\n",
    "    c4 = 0\n",
    "    # block[3..0] => lower 4 bits of block\n",
    "    c4 |= (block & 0xF) << 4\n",
    "    # plane => 2 bits in [3..2]\n",
    "    c4 |= (plane & 0x3) << 2\n",
    "    # top 2 bits of page => page[9..8]\n",
    "    c4 |= (page >> 8) & 0x3\n",
    "    \n",
    "    \n",
    "    # ---------------------\n",
    "    # Cycle 5 => c5[7..0]:\n",
    "    #   bits[5..0] -> block[9..4]\n",
    "    #   bit [6]    -> lun\n",
    "    #   bit [7]    -> 0\n",
    "    # ---------------------\n",
    "    c5 = 0\n",
    "    # block[9..4] => 6 bits\n",
    "    c5 |= ((block >> 4) & 0x3F)\n",
    "    # lun => bit [6]\n",
    "    c5 |= ((lun & 0x1) << 6)\n",
    "    \n",
    "    return [c1, c2, c3, c4, c5]"
   ]
  },
  {
   "cell_type": "code",
   "execution_count": 30,
   "id": "9fa17116-f050-494e-bf35-7d30f06f8bcb",
   "metadata": {},
   "outputs": [
    {
     "name": "stdout",
     "output_type": "stream",
     "text": [
      "Input Address Parameters:\n",
      " Column    : 0x00  (bin: 00000000)\n",
      " Page      : 0x64    (bin: 01100100)\n",
      " Block     : 0x00   (bin: 00000000)\n",
      " Plane     : 0x00   (bin: 00000000)\n",
      "5 Address Cycles:\n",
      " Cycle 1: 0x00  (bin: 00000000)\n",
      " Cycle 2: 0x00  (bin: 00000000)\n",
      " Cycle 3: 0x64  (bin: 01100100)\n",
      " Cycle 4: 0x00  (bin: 00000000)\n",
      " Cycle 5: 0x00  (bin: 00000000)\n",
      "Address Cycles: [0, 0, 100, 0, 0]\n"
     ]
    }
   ],
   "source": [
    "column = 0\n",
    "page   = pageX\n",
    "block  = blockX\n",
    "plane  = planeX\n",
    "lun    = 0\n",
    "\n",
    "print(\"Input Address Parameters:\")\n",
    "print(f\" Column    : 0x{column:02X}  (bin: {column:08b})\")\n",
    "print(f\" Page      : 0x{page:02X}    (bin: {page:08b})\")\n",
    "print(f\" Block     : 0x{block:02X}   (bin: {block:08b})\")\n",
    "print(f\" Plane     : 0x{plane:02X}   (bin: {plane:08b})\")\n",
    "\n",
    "\n",
    "cycles = build_5_cycle_address(column, page, block, plane, lun)\n",
    "print(\"5 Address Cycles:\")\n",
    "for i, val in enumerate(cycles, start=1):\n",
    "    print(f\" Cycle {i}: 0x{val:02X}  (bin: {val:08b})\")\n",
    "\n",
    "print(f\"Address Cycles: {cycles}\")"
   ]
  },
  {
   "cell_type": "code",
   "execution_count": 31,
   "id": "4cc63e7a",
   "metadata": {},
   "outputs": [
    {
     "name": "stdout",
     "output_type": "stream",
     "text": [
      " Character Array of Address Cycle: \u0000\u0000d\u0000\u0000\n"
     ]
    }
   ],
   "source": [
    "#Conversion to Charater Array:\n",
    "dataCycle = \"\"\n",
    "noAddressCycle = 5\n",
    "\n",
    "for i in range(0, noAddressCycle, 1):\n",
    "    dataCycle += chr(cycles[i])\n",
    "    \n",
    "print(f\" Character Array of Address Cycle: {dataCycle}\")"
   ]
  },
  {
   "cell_type": "markdown",
   "id": "bfce5999",
   "metadata": {},
   "source": [
    "# Commands and Read Write Functions"
   ]
  },
  {
   "cell_type": "code",
   "execution_count": 32,
   "id": "fdf43c8c-0e36-4bbb-9718-cb67eb503912",
   "metadata": {},
   "outputs": [],
   "source": [
    "#essential functions\n",
    "import usb.core\n",
    "import usb.util\n",
    "import time\n",
    "from array import array as Array\n",
    "from pyftdi.ftdi import *"
   ]
  },
  {
   "cell_type": "code",
   "execution_count": 33,
   "id": "5096f7e3-151d-4e1e-b0b0-8f22aad289b4",
   "metadata": {},
   "outputs": [],
   "source": [
    "NAND_CMD_READ_CYCLE1 = 0x00\n",
    "NAND_CMD_READ_CYCLE2 = 0x30\n",
    "NAND_CMD_RESET = 0xFF\n",
    "\n",
    "ACTIVATE_COMMNAD_LATCH = 0x40\n",
    "ACTIVATE_ADDRESS_LATCH = 0x80\n",
    "DEACTIVATE_CA_LATCH = 0x00"
   ]
  },
  {
   "cell_type": "code",
   "execution_count": 34,
   "id": "531e2653",
   "metadata": {},
   "outputs": [],
   "source": [
    "def read_nand_command (cycle):\n",
    "    #Command Cycle 1\n",
    "    cmds1 = [Ftdi.WRITE_EXTENDED, ACTIVATE_COMMNAD_LATCH, 0] \n",
    "    cmds1 += [NAND_CMD_READ_CYCLE1]\n",
    "    ftdi.write_data(Array('B', cmds1))\n",
    "    \n",
    "    #Address Cycle 5 Consequtive\n",
    "    cmds2 = [Ftdi.WRITE_EXTENDED, ACTIVATE_ADDRESS_LATCH, 0 , cycle[0]]\n",
    "    for i in range(1,5,1):\n",
    "        cmds2 += [Ftdi.WRITE_SHORT, 0, cycle[i]]\n",
    "    ftdi.write_data(Array('B', cmds2))\n",
    "    \n",
    "    #Command Cycle 2\n",
    "    cmds3 = [Ftdi.WRITE_EXTENDED, ACTIVATE_COMMNAD_LATCH, 0]\n",
    "    cmds3 += [NAND_CMD_READ_CYCLE2]\n",
    "    ftdi.write_data(Array('B', cmds3))\n",
    "    \n",
    "    print(f\"Command 1:  {cmds1}\")\n",
    "    print(f\"Command 2:  {cmds2}\")\n",
    "    print(f\"Command 3:  {cmds3}\")"
   ]
  },
  {
   "cell_type": "code",
   "execution_count": 35,
   "id": "ffc04f78-ddd7-43ec-b056-a5203d358767",
   "metadata": {},
   "outputs": [],
   "source": [
    "def read_nand_page_bytes(read_len):\n",
    "    cmds = []\n",
    "    \n",
    "    #Data Read Cycle\n",
    "    cmds += [ftdi.READ_EXTENDED, DEACTIVATE_CA_LATCH , 0]\n",
    "    \n",
    "    for i in range(1, read_len, 1):\n",
    "        cmds += [Ftdi.READ_SHORT, 0]\n",
    "        \n",
    "    cmds.append(Ftdi.SEND_IMMEDIATE)\n",
    "    ftdi.write_data(Array('B', cmds))\n",
    "    data = ftdi.read_data_bytes(read_len)  \n",
    "    print(f\"Type of the page data {type(data[1])}\")\n",
    "    print(f\"Type of the page data array {type(data)}\")\n",
    "    \n",
    "    return bytes(data)"
   ]
  },
  {
   "cell_type": "markdown",
   "id": "0ed11f4f",
   "metadata": {},
   "source": [
    "# FTDI Initialization"
   ]
  },
  {
   "cell_type": "code",
   "execution_count": 36,
   "id": "b7f862c0-5a9a-4240-98f3-24d1e181febe",
   "metadata": {},
   "outputs": [
    {
     "name": "stdout",
     "output_type": "stream",
     "text": [
      "[147, 64, 0, 255]\n"
     ]
    },
    {
     "data": {
      "text/plain": [
       "4"
      ]
     },
     "execution_count": 36,
     "metadata": {},
     "output_type": "execute_result"
    }
   ],
   "source": [
    "VENDOR_ID = 0x0403\n",
    "PRODUCT_ID = 0x6010\n",
    "\n",
    "# direction_mask: 1 means output, 0 means input\n",
    "# value_mask:     1 sets the pin high, 0 sets it low\n",
    "DIRECTION_MASK = 0xFF  # all upper 8 bits as output\n",
    "VALUE_MASK = 0x00     # pattern to set the pins to\n",
    "\n",
    "# Initialize FTDI\n",
    "#Creates an instance or object of the Ftdi class and stored in the ftdi variable\n",
    "ftdi = Ftdi()\n",
    "\n",
    "#Open a new interface to the specified FTDI device.\n",
    "#open() method establishes a connection to a specific FTDI device.\n",
    "ftdi.open(VENDOR_ID, PRODUCT_ID, interface=1)\n",
    "\n",
    "#Configures the FTDI device into MCU Host Bus Emulation mode\n",
    "ftdi.set_bitmode(0x00, Ftdi.BitMode.MCU)  # MCU = 0x08 (MCU Host Bus Emulation mode)\n",
    "\n",
    "#Disable the “divide-by-5” clock prescaler allows higher frequency operation\n",
    "ftdi.write_data(Array('B', [Ftdi.DISABLE_CLK_DIV5]))\n",
    "\n",
    "#the FTDI device waits (in milliseconds) \n",
    "#before sending any partially filled USB packet up to the host if the buffer is not yet full.\n",
    "ftdi.set_latency_timer(16)\n",
    "\n",
    "\n",
    "# This tells the FTDI chip to set upper 8 bits [ACBUS] with these direction and value settings\n",
    "ftdi.write_data(bytes([Ftdi.SET_BITS_HIGH, VALUE_MASK, DIRECTION_MASK]))\n",
    "\n",
    "#Any pending outbound data in the transmit buffer is cleared\n",
    "ftdi.purge_buffers()\n",
    "\n",
    "#Reset the the nand flash chip\n",
    "cmdsRST = [Ftdi.WRITE_EXTENDED, ACTIVATE_COMMNAD_LATCH, 0, NAND_CMD_RESET]\n",
    "print (cmdsRST)\n",
    "ftdi.write_data(Array('B', cmdsRST))"
   ]
  },
  {
   "cell_type": "code",
   "execution_count": 37,
   "id": "f364422f-43a7-42d9-9585-8062cc9c986f",
   "metadata": {
    "scrolled": true
   },
   "outputs": [
    {
     "name": "stdout",
     "output_type": "stream",
     "text": [
      "[0, 0, 100, 0, 0]\n",
      "Command 1:  [147, 64, 0, 0]\n",
      "Command 2:  [147, 128, 0, 0, 146, 0, 0, 146, 0, 100, 146, 0, 0, 146, 0, 0]\n",
      "Command 3:  [147, 64, 0, 48]\n",
      "Type of the page data <class 'int'>\n",
      "Type of the page data array <class 'bytearray'>\n"
     ]
    },
    {
     "data": {
      "text/plain": [
       "b'\\xc1AFFAAGFAAAAFFAANFC\\xc1fFAAF^AAFFAAFFAAFFAAFFAAFFAAFFa\\xc1VFAAFNAAFFAAFFAAFFAAFFAAGF\\xc1AFFAANFAAFFAIFFAaFFAAFFAAFFAEFFAA\\xc6FA\\xc1F\\xc6EAFFAAFNAIFfAAFFEAFFAaF\\xc6A\\xc1FFAEFFAEGFAAFFAAFFACFFAAFFAAFFAAG\\xc7ACFVAAFF\\xc1\\xc1FFAAFFaAGFAIFFAAFFA\\xc1VFAAFFAAFFAAF\\xc6AAFfAAFfEAFFQAFFA\\xc1FFAAFFAAFFAAfFAAGFAAFFAaFFAAFFAAFFQAFFAA\\xc6FAAFFAAFFAAG\\xe6AAFFAAFGA\\xc1FfAAFFAAFFAAFFAAFFA\\xc3GFAAFFACVFAAFNAAF\\xc7AA^FAAF\\xceAAFFAAFFAAFFAAFFAAFGAaFFAAFVaAFFAAFFIAFFAAGFAAFF~FFAAFF\\xc1AFF\\xc1A\\xc6FAAFFAAFF\\xc1AFGCAFNACFFAAFFAAAAFFAAFGQAFFaAFFAA\\xc6FAANfAAFNAAN\\xc6A\\xc1FFAAFFAAFF\\xc1AFFAAFFAANFAAFFAAF\\xc6A\\xc1FFAAF\\xc6AAFFAAfFAC\\xc6FAA\\xc6FAAFF\\xc1AFFaA\\xc6FAAFFAAFFAAFVAAFFAAGGAMFFAc\\xc6F\\xd1AffAAFFAAVFAAFFAAF\\xc6AIFFAAFFACFFAAFFaAFgA\\xc1F\\xc6A\\xc1FFAAFFAAFFQAGFAAF\\xc6AQ\\xe6F\\xc1AFFAAFFAAVFAAFFAANFAAF\\xc6EAgOA\\xc1FvAAFFAAFFaA\\xc6FAAFFAAFFAAFFEAF^IAFFCE\\xc6fAAFFA\\xc5FFAAFF\\xc1AFVAAFFAAFFAAFGaAFFAAFFAAFGAEfFAAFFAcFNEAF\\xc7AC\\xceFAAfFAAFNAA\\xc6FAAFFAAFGAAVFCAF\\xc6CAVF\\xc1Af\\xc6\\xc1aFFAAF\\xc6AAFFAA\\xc6FCAFFAEFFAA\\xceFACFfAAFFC\\xc1F\\xc6AAFFAAFFAAFfQAFfAAFFAaGFAAFFAAFFAAFFAAFFAAFFAAFFAAF\\xc6AAFF\\xc1AFFAaN\\xc6AAFFQAFFAAfFAAFFQAFFAAFFAAFFAAFGAAFFAEFFaAF\\xc6AAFFAAFfAAFFAAGFAAF\\xc6AAFFAAFFAAFFAAF\\xc6QAFFAAFFAAFFAQNFE\\xc3FF\\xc1AFFACFFAQFFA\\xc1FFAAFFaAFF\\xc1AFGAAFGAAFFAA\\xc6FAaFFA\\xc1FFIAFFAAFFIaFFAAFFAA\\xceFA\\xc1FFAANFQAFFAAGF\\xc1AFGAAFFA\\xc1FFAAFFAAVFAa\\xc6FAAFFCAFFAAFFAAFFAAVFAEFFAAVVA\\xc1F\\xc6AAFFAAFFA\\xd1FFaAFFAAFVAAFFASffAAFFAAfFAAFNAAFFAAFFAAFFA\\xc1FfAI\\xc6FIAFFAAF\\xc6AafFAAFFAQVFAAFF\\xe1AFFAAGFAEFFaAFFA\\xc1VFFFAI\\xceVAAFFAEFFAAFFIEFFAAFFACFFAAFFAAGFAAFF\\xc1AFfAAFFA\\xc1FFAaFFAAFFAAFFCAGFAA\\xc6F\\xc1AFFA\\xc1GFAIFFAAFFAAFFAA\\xceF\\xd1AFF\\xc1AFFAAFGAAFNAAGNAAFFAAFFAAFNAQ\\xc6fAA\\xc6NQA\\xc6FACFFAAF\\xc6\\xc1a\\xc6FQAVfAAFFAAF\\xc6AAFFAAFNAAFG\\xc1AGFAAF\\xc7CAGFAAFFIAFFAAFFAAFFAA\\xc6FAAFFAEF\\xc6AAFGaAFFAQFFAAFFAAFFAAF\\xc6GA\\xc6NAAFFiAFFAAGFAAFFAAFFAAFfAAFFAAGFAAFFAAFFAAFFAIFFAA\\xc7FECF\\xc6AAFFAAFGQAF\\xc6AAFFEAFFAaFFAAFFA\\xc1FFEAFFEAFN\\xc1AFFAA\\xc6FAaFFaAFFAAF\\xd6AAFFAAFFAA\\xc6\\xc6AAFFAAFFAAFFACFFAAFFAAGFAAFFAANFAcFFAAFFAAFFAAFFAAFFCAFgAA\\xc6FAAFFAaFFACFFCAFFAaFFaAfFAAFVaAFFCAFF\\xc1AFFAAFFACFFA\\xc1FFA\\xc1F\\xc6AAFFAAFF\\xc1AFFAC\\xc6F\\xc1AFOAAFFAAFFCAFFAA\\xc6FAAFFAEFFAA\\xc6\\xc6AA\\xc7FAAFFAeFFA\\xc1FFAAFF\\xc1AFFaAfVAAFFAAFFAAF\\xc6AEFF\\xc1AFGAAFG\\xc1ANFAAFGCQfFAAFGAAFFAeFFEAN\\xc6AAFGACNfAAFFAAFG\\xc1AFFAAVFAAFNaEFFAAFFAAF\\xd6aAFFAAFFAAFF\\xc1EFFAANFAAOFAAFFAAFfAAFFAAFFAAFNACFF\\xc1AFN\\xc1EFfaAfFMEF\\xe6AAFFAAFF\\xc1\\xc1FF\\xc1\\xc1FFAAFNAAF\\xc6AAFFAAVV\\xc1A\\xc6FAAFGAAFFAAFFAAFFAAFFaAFFQA\\xc6FAAFFaAFFAAFGCIGFAAF\\xe6AAFFA\\xc1FFQEFVA\\xc1fNAAFFAAF\\xceAA\\xc6GA\\xc1FG\\xc3AFFAAFFCAFFAAFFCAFFAAGFAA\\xc6FAANFaAfFAAFNAAFFAAFfAAFVAAFFAAFFAA\\xc6NAAFFCAFFAAFFAAFF\\xc1A\\xc6FAAFFCAFFAAFGAAF\\xc6\\xc1AFF\\xc1AFFAAFGAAFFAAFFAAfFAA\\xc6gAAFF\\xc1AFFaAF\\xce\\xc1AV\\xc7AAFFEAF\\xc6AAFFAAFFAAF\\xe6AAFFaAFNAIF\\xc6AAFF\\xc1AFFAAFGEAFFA\\xc1F\\xc6AC\\xc6FIAFFAAFFAAFFQANFAAFFAAFFAAFFAAfFAAO\\xc6AANFAAFWAAFF\\xff\\xff\\xff\\xff\\xff\\xff\\xff\\xff\\xff\\xff\\xff\\xff\\xff\\xff\\xff\\xff\\xff\\xff\\xff\\xff\\xff\\xff\\xff\\xff\\xff\\xff\\xff\\xff\\xff\\xff\\xff\\xff\\xff\\xff\\xff\\xff\\xff\\xff\\xff\\xff\\xff\\xff\\xff\\xff\\xff\\xff\\xff\\xff\\xff\\xff\\xff\\xff\\xff\\xff\\xff\\xff\\xff\\xff\\xff\\xff\\xff\\xff\\xff\\xff\\xff\\xff\\xff\\xff\\xff\\xff\\xff\\xff\\xff\\xff\\xff\\xff\\xff\\xff\\xff\\xff\\xff\\xff\\xff\\xff\\xff\\xff\\xff\\xff\\xff\\xff\\xff\\xff\\xff\\xff\\xff\\xff\\xff\\xff\\xff\\xff\\xff\\xff\\xff\\xff\\xff\\xff\\xff\\xff\\xff\\xff\\xff\\xff\\xff\\xff\\xff\\xff\\xff\\xff\\xff\\xff\\xff\\xff\\xff\\xff\\xff\\xff\\xff\\xff\\xff\\xff\\xff\\xff\\xff\\xff\\xff\\xff\\xff\\xff\\xff\\xff\\xff\\xff\\xff\\xff\\xff\\xff\\xff\\xff\\xff\\xff\\xff\\xff\\xff\\xff\\xff\\xff\\xff\\xff\\xff\\xff\\xff\\xff\\xff\\xff\\xff\\xff\\xff\\xff\\xff\\xff\\xff\\xff\\xff\\xff\\xff\\xff\\xff\\xff\\xff\\xff\\xff\\xff\\xff\\xff\\xff\\xff\\xff\\xff\\xff\\xff\\xff\\xff\\xff\\xff\\xff\\xff\\xff\\xff\\xff\\xff\\xff\\xff\\xff\\xff\\xff\\xff\\xff\\xff\\xff\\xff\\xff\\xff\\xff\\xff\\xff\\xff\\xff\\xff\\xff\\xff\\xff\\xff\\xff\\xff\\xff\\xff\\xff\\xff\\xff\\xff\\xff\\xff\\xff\\xff\\xff\\xff\\xff\\xff\\xff\\xff\\xff\\xff\\xff\\xff\\xff\\xff\\xff\\xff\\xff\\xff\\xff\\xff\\xff\\xff\\xff\\xff\\xff\\xff\\xff\\xff\\xff\\xff\\xff\\xff\\xff\\xff\\xff\\xff\\xff\\xff\\xff\\xff\\xff\\xff\\xff\\xff\\xff\\xff\\xff\\xff\\xff\\xff\\xff\\xff\\xff\\xff\\xff\\xff\\xff\\xff\\xff\\xff\\xff\\xff\\xff\\xff\\xff\\xff\\xff\\xff\\xff\\xff\\xff\\xff\\xff\\xff\\xff\\xff\\xff\\xff\\xff\\xff\\xff\\xff\\xff\\xff\\xff\\xff\\xff\\xff\\xff\\xff\\xff\\xff\\xff\\xff\\xff\\xff\\xff\\xff\\xff\\xff\\xff\\xff\\xff\\xff\\xff\\xff\\xff\\xff\\xff\\xff\\xff\\xff\\xff\\xff\\xff\\xff\\xff\\xff\\xff\\xff\\xff\\xff\\xff\\xff\\xff\\xff\\xff\\xff\\xff\\xff\\xff\\xff\\xff\\xff\\xff\\xff\\xff\\xff\\xff\\xff\\xff\\xff\\xff\\xff\\xff\\xff\\xff\\xff\\xff\\xff\\xff\\xff\\xff\\xff\\xff\\xff\\xff\\xff\\xff\\xff\\xff\\xff\\xff\\xff\\xff\\xff\\xff\\xff\\xff\\xff\\xff\\xff\\xff\\xff\\xff\\xff\\xff\\xff\\xff\\xff\\xff\\xff\\xff\\xff\\xff\\xff\\xff\\xff\\xff\\xff\\xff\\xff\\xff\\xff\\xff\\xff\\xff\\xff\\xff\\xff\\xff\\xff\\xff\\xff\\xff\\xff\\xff\\xff\\xff\\xff\\xff\\xff\\xff\\xff\\xff\\xff\\xff\\xff\\xff\\xff\\xff\\xff\\xff\\xff\\xff\\xff\\xff\\xff\\xff\\xff\\xff\\xff\\xff\\xff\\xff\\xff\\xff\\xff\\xff\\xff\\xff\\xff\\xff\\xff\\xff\\xff\\xff\\xff\\xff\\xff\\xff\\xff\\xff\\xff\\xff\\xff\\xff\\xff\\xff\\xff\\xff\\xff\\xff\\xff\\xff\\xff\\xff\\xff\\xff\\xff\\xff\\xff\\xff\\xff\\xff\\xff\\xff\\xff\\xff\\xff\\xff\\xff\\xff\\xff\\xff\\xff\\xff\\xff\\xff\\xff\\xff\\xff\\xff\\xff\\xff\\xff\\xff\\xff\\xff\\xff\\xff\\xff\\xff\\xff\\xff\\xff\\xff\\xff\\xff\\xff\\xff\\xff\\xff\\xff\\xff\\xff\\xff\\xff\\xff\\xff\\xff\\xff\\xff\\xff\\xff\\xff\\xff\\xff\\xff\\xff\\xff\\xff\\xff\\xff\\xff\\xff\\xff\\xff\\xff\\xff\\xff\\xff\\xff\\xff\\xff\\xff\\xff\\xff\\xff\\xff\\xff\\xff\\xff\\xff\\xff\\xff\\xff\\xff\\xff\\xff\\xff\\xff\\xff\\xff\\xff\\xff\\xff\\xff\\xff\\xff\\xff\\xff\\xff\\xff\\xff\\xff\\xff\\xff\\xff\\xff\\xff\\xff\\xff\\xff\\xff\\xff\\xff\\xff\\xff\\xff\\xff\\xff\\xff\\xff\\xff\\xff\\xff\\xff\\xff\\xff\\xff\\xff\\xff\\xff\\xff\\xff\\xff\\xff\\xff\\xff\\xff\\xff\\xff\\xff\\xff\\xff\\xff\\xff\\xff\\xff\\xff\\xff\\xff\\xff\\xff\\xff\\xff\\xff\\xff\\xff\\xff\\xff\\xff\\xff\\xff\\xff\\xff\\xff\\xff\\xff\\xff\\xff\\xff\\xff\\xff\\xff\\xff\\xff\\xff\\xff\\xff\\xff\\xff\\xff\\xff\\xff\\xff\\xff\\xff\\xff\\xff\\xff\\xff\\xff\\xff\\xff\\xff\\xff\\xff\\xff\\xff\\xff\\xff\\xff\\xff\\xff\\xff\\xff\\xff\\xff\\xff\\xff\\xff\\xff\\xff\\xff\\xff\\xff\\xff\\xff\\xff\\xff\\xff\\xff\\xff\\xff\\xff\\xff\\xff\\xff\\xff\\xff\\xff\\xff\\xff\\xff\\xff\\xff\\xff\\xff\\xff\\xff\\xff\\xff\\xff\\xff\\xff\\xff\\xff\\xff\\xff\\xff\\xff\\xff\\xff\\xff\\xff\\xff\\xff\\xff\\xff\\xff\\xff\\xff\\xff\\xff\\xff\\xff\\xff\\xff\\xff\\xff\\xff\\xff\\xff\\xff\\xff\\xff\\xff\\xff\\xff\\xff\\xff\\xff\\xff\\xff\\xff\\xff\\xff\\xff\\xff\\xff\\xff\\xff\\xff\\xff\\xff\\xff\\xff\\xff\\xff\\xff\\xff\\xff\\xff\\xff\\xff\\xff\\xff\\xff\\xff\\xff\\xff\\xff\\xff\\xff\\xff\\xff\\xff\\xff\\xff\\xff\\xff\\xff\\xff\\xff\\xff\\xff\\xff\\xff\\xff\\xff\\xff\\xff\\xff\\xff\\xff\\xff\\xff\\xff\\xff\\xff\\xff\\xff\\xff\\xff\\xff\\xff\\xff\\xff\\xff\\xff\\xff\\xff\\xff\\xff\\xff\\xff\\xff\\xff\\xff\\xff\\xff\\xff\\xff\\xff\\xff\\xff\\xff\\xff\\xff\\xff\\xff\\xff\\xff\\xff\\xff\\xff\\xff\\xff\\xff\\xff\\xff\\xff\\xff\\xff\\xff\\xff\\xff\\xff\\xff\\xff\\xff\\xff\\xff\\xff\\xff\\xff\\xff\\xff\\xff\\xff\\xff\\xff\\xff\\xff\\xff\\xff\\xff\\xff\\xff\\xff\\xff\\xff\\xff\\xff\\xff\\xff\\xff\\xff\\xff\\xff\\xff\\xff\\xff\\xff\\xff\\xff\\xff\\xff\\xff\\xff\\xff\\xff\\xff\\xff\\xff\\xff\\xff\\xff\\xff\\xff\\xff\\xff\\xff\\xff\\xff\\xff\\xff\\xff\\xff\\xff\\xff\\xff\\xff\\xff\\xff\\xff\\xff\\xff\\xff\\xff\\xff\\xff\\xff\\xff\\xff\\xff\\xff\\xff\\xff\\xff\\xff\\xff\\xff\\xff\\xff\\xff\\xff\\xff\\xff\\xff\\xff\\xff\\xff\\xff\\xff\\xff\\xff\\xff\\xff\\xff\\xff\\xff\\xff\\xff\\xff\\xff\\xff\\xff\\xff\\xff\\xff\\xff\\xff\\xff\\xff\\xff\\xff\\xff\\xff\\xff\\xff\\xff\\xff\\xff\\xff\\xff\\xff\\xff\\xff\\xff\\xff\\xff\\xff\\xff\\xff\\xff\\xff\\xff\\xff\\xff\\xff\\xff\\xff\\xff\\xff\\xff\\xff\\xff\\xff\\xff\\xff\\xff\\xff\\xff\\xff\\xff\\xff\\xff\\xff\\xff\\xff\\xff\\xff\\xff\\xff\\xff\\xff\\xff\\xff\\xff\\xff\\xff\\xff\\xff\\xff\\xff\\xff\\xff\\xff\\xff\\xff\\xff\\xff\\xff\\xff\\xff\\xff\\xff\\xff\\xff\\xff\\xff\\xff\\xff\\xff\\xff\\xff\\xff\\xff\\xff\\xff\\xff\\xff\\xff\\xff\\xff\\xff\\xff\\xff\\xff\\xff\\xff\\xff\\xff\\xff\\xff\\xff\\xff\\xff\\xff\\xff\\xff\\xff\\xff\\xff\\xff\\xff\\xff\\xff\\xff\\xff\\xff\\xff\\xff\\xff\\xff\\xff\\xff\\xff\\xff\\xff\\xff\\xff\\xff\\xff\\xff\\xff\\xff\\xff\\xff\\xff\\xff\\xff\\xff\\xff\\xff\\xff\\xff\\xff\\xff\\xff\\xff\\xff\\xff\\xff\\xff\\xff\\xff\\xff\\xff\\xff\\xff\\xff\\xff\\xff\\xff\\xff\\xff\\xff\\xff\\xff\\xff\\xff\\xff\\xff\\xff\\xff\\xff\\xff\\xff\\xff\\xff\\xff\\xff\\xff\\xff\\xff\\xff\\xff\\xff\\xff\\xff\\xff\\xff\\xff\\xff\\xff\\xff\\xff\\xff\\xff\\xff\\xff\\xff\\xff\\xff\\xff\\xff\\xff\\xff\\xff\\xff\\xff\\xff\\xff\\xff\\xff\\xff\\xff\\xff\\xff\\xff\\xff\\xff\\xff\\xff\\xff\\xff\\xff\\xff\\xff\\xff\\xff\\xff\\xff\\xff\\xff\\xff\\xff\\xff\\xff\\xff\\xff\\xff\\xff\\xff\\xff\\xff\\xff\\xff\\xff\\xff\\xff\\xff\\xff\\xff\\xff\\xff\\xff\\xff\\xff\\xff\\xff\\xff\\xff\\xff\\xff\\xff\\xff\\xff\\xff\\xff\\xff\\xff\\xff\\xff\\xff\\xff\\xff\\xff\\xff\\xff\\xff\\xff\\xff\\xff\\xff\\xff\\xff\\xff\\xff\\xff\\xff\\xff\\xff\\xff\\xff\\xff\\xff\\xff\\xff\\xff\\xff\\xff\\xff\\xff\\xff\\xff\\xff\\xff\\xff\\xff\\xff\\xff\\xff\\xff\\xff\\xff\\xff\\xff\\xff\\xff\\xff\\xff\\xff\\xff\\xff\\xff\\xff\\xff\\xff\\xff\\xff\\xff\\xff\\xff\\xff\\xff\\xff\\xff\\xff\\xff\\xff\\xff\\xff\\xff\\xff\\xff\\xff\\xff\\xff\\xff\\xff\\xff\\xff\\xff\\xff\\xff\\xff\\xff\\xff\\xff\\xff\\xff\\xff\\xff\\xff\\xff\\xff\\xff\\xff\\xff\\xff\\xff\\xff\\xff\\xff\\xff\\xff\\xff\\xff\\xff\\xff\\xff\\xff\\xff\\xff\\xff\\xff\\xff\\xff\\xff\\xff\\xff\\xff\\xff\\xff\\xff\\xff\\xff\\xff\\xff\\xff\\xff\\xff\\xff\\xff\\xff\\xff\\xff\\xff\\xff\\xff\\xff\\xff\\xff\\xff\\xff\\xff\\xff\\xff\\xff\\xff\\xff\\xff\\xff\\xff\\xff\\xff\\xff\\xff\\xff\\xff\\xff\\xff\\xff\\xff\\xff\\xff\\xff\\xff\\xff\\xff\\xff\\xff\\xff\\xff\\xff\\xff\\xff\\xff\\xff\\xff\\xff\\xff\\xff\\xff\\xff\\xff\\xff\\xff\\xff\\xff\\xff\\xff\\xff\\xff\\xff\\xff\\xff\\xff\\xff\\xff\\xff\\xff\\xff\\xff\\xff\\xff\\xff\\xff\\xff\\xff\\xff\\xff\\xff\\xff\\xff\\xff\\xff\\xff\\xff\\xff\\xff\\xff\\xff\\xff\\xff\\xff\\xff\\xff\\xff\\xff\\xff\\xff\\xff\\xff\\xff\\xff\\xff\\xff\\xff\\xff\\xff\\xff\\xff\\xff\\xff\\xff\\xff\\xff\\xff\\xff\\xff\\xff\\xff\\xff\\xff\\xff\\xff\\xff\\xff\\xff\\xff\\xff\\xff\\xff\\xff\\xff\\xff\\xff\\xff\\xff\\xff\\xff\\xff\\xff\\xff\\xff\\xff\\xff\\xff\\xff\\xff\\xff\\xff\\xff\\xff\\xff\\xff\\xff\\xff\\xff\\xff\\xff\\xff\\xff\\xff\\xff\\xff\\xff\\xff\\xff\\xff\\xff\\xff\\xff\\xff\\xff\\xff\\xff\\xff\\xff\\xff\\xff\\xff\\xff\\xff\\xff\\xff\\xff\\xff\\xff\\xff\\xff\\xff\\xff\\xff\\xff\\xff\\xff\\xff\\xff\\xff\\xff\\xff\\xff\\xff\\xff\\xff\\xff\\xff\\xff\\xff\\xff\\xff\\xff\\xff\\xff\\xff\\xff\\xff\\xff\\xff\\xff\\xff\\xff\\xff\\xff\\xff\\xff\\xff\\xff\\xff\\xff\\xff\\xff\\xff\\xff\\xff\\xff\\xff\\xff\\xff\\xff\\xff\\xff\\xff\\xff\\xff\\xff\\xff\\xff\\xff\\xff\\xff\\xff\\xff\\xff\\xff\\xff\\xff\\xff\\xff\\xff\\xff\\xff\\xff\\xff\\xff\\xff\\xff\\xff\\xff\\xff\\xff\\xff\\xff\\xff\\xff\\xff\\xff\\xff\\xff\\xff\\xff\\xff\\xff\\xff\\xff\\xff\\xff\\xff\\xff\\xff\\xff\\xff\\xff\\xff\\xff\\xff\\xff\\xff\\xff\\xff\\xff\\xff\\xff\\xff\\xff\\xff\\xff\\xff\\xff\\xff\\xff\\xff\\xff\\xff\\xff\\xff\\xff\\xff\\xff\\xff\\xff\\xff\\xff\\xff\\xff\\xff\\xff\\xff\\xff\\xff\\xff\\xff\\xff\\xff\\xff\\xff\\xff\\xff\\xff\\xff\\xff\\xff\\xff\\xff\\xff\\xff\\xff\\xff\\xff\\xff\\xff\\xff\\xff\\xff\\xff\\xff\\xff\\xff\\xff\\xff\\xff\\xff\\xff\\xff\\xff\\xff\\xff\\xff\\xff\\xff\\xff\\xff\\xff\\xff\\xff\\xff\\xff\\xff\\xff\\xff\\xff\\xff\\xff\\xff\\xff\\xff\\xff\\xff\\xff\\xff\\xff\\xff\\xff\\xff\\xff\\xff\\xff\\xff\\xff\\xff\\xff\\xff\\xff\\xff\\xff\\xff\\xff\\xff\\xff\\xff\\xff\\xff\\xff\\xff\\xff\\xff\\xff\\xff\\xff\\xff\\xff\\xff\\xff\\xff\\xff\\xff\\xff\\xff\\xff\\xff\\xff\\xff\\xff\\xff\\xff\\xff\\xff\\xff\\xff\\xff\\xff\\xff\\xff\\xff\\xff\\xff\\xff\\xff\\xff\\xff\\xff\\xff\\xff\\xff\\xff\\xff\\xff\\xff\\xff\\xff\\xff\\xff\\xff\\xff\\xff\\xff\\xff\\xff\\xff\\xff\\xff\\xff\\xff\\xff\\xff\\xff\\xff\\xff\\xff\\xff\\xff\\xff\\xff\\xff\\xff\\xff\\xff\\xff\\xff\\xff\\xff\\xff\\xff\\xff\\xff\\xff\\xff\\xff\\xff\\xff\\xff\\xff\\xff\\xff\\xff\\xff\\xff\\xff\\xff\\xff\\xff\\xff\\xff\\xff\\xff\\xff\\xff\\xff\\xff\\xff\\xff\\xff\\xff\\xff\\xff\\xff\\xff\\xff\\xff\\xff\\xff\\xff\\xff\\xff\\xff\\xff\\xff\\xff\\xff\\xff\\xff\\xff\\xff\\xff\\xff\\xff\\xff\\xff\\xff\\xff\\xff\\xff\\xff\\xff\\xff\\xff\\xff\\xff\\xff\\xff\\xff\\xff\\xff\\xff\\xff\\xff\\xff\\xff\\xff\\xff\\xff\\xff\\xff\\xff\\xff\\xff\\xff\\xff\\xff\\xff\\xff\\xff\\xff\\xff\\xff\\xff\\xff\\xff\\xff\\xff\\xff\\xff\\xff\\xff\\xff\\xff\\xff\\xff\\xff\\xff\\xff\\xff\\xff\\xff\\xff\\xff\\xff\\xff\\xff\\xff\\xff\\xff\\xff\\xff\\xff\\xff\\xff\\xff\\xff\\xff\\xff\\xff\\xff\\xff\\xff\\xff\\xff\\xff\\xff\\xff\\xff\\xff\\xff\\xff\\xff\\xff\\xff\\xff\\xff\\xff\\xff\\xff\\xff\\xff\\xff\\xff\\xff\\xff\\xff\\xff\\xff\\xff\\xff\\xff\\xff\\xff\\xff\\xff\\xff\\xff\\xff\\xff\\xff\\xff\\xff\\xff\\xff\\xff\\xff\\xff\\xff\\xff\\xff\\xff\\xff\\xff\\xff\\xff\\xff\\xff\\xff\\xff\\xff\\xff\\xff\\xff\\xff\\xff\\xff\\xff\\xff\\xff\\xff\\xff\\xff\\xff\\xff\\xff\\xff\\xff\\xff\\xff\\xff\\xff\\xff\\xff\\xff\\xff\\xff\\xff\\xff\\xff\\xff\\xff\\xff\\xff\\xff\\xff\\xff\\xff\\xff\\xff\\xff\\xff\\xff\\xff\\xff\\xff\\xff\\xff\\xff\\xff\\xff\\xff\\xff\\xff\\xff\\xff\\xff\\xff\\xff\\xff\\xff\\xff\\xff\\xff\\xff\\xff\\xff\\xff\\xff\\xff\\xff\\xff\\xff\\xff\\xff\\xff\\xff\\xff\\xff\\xff\\xff\\xff\\xff\\xff\\xff\\xff\\xff\\xff\\xff\\xff\\xff\\xff\\xff\\xff\\xff\\xff\\xff\\xff\\xff\\xff\\xff\\xff\\xff\\xff\\xff\\xff\\xff\\xff\\xff\\xff\\xff\\xff\\xff\\xff\\xff\\xff\\xff\\xff\\xff\\xff\\xff\\xff\\xff\\xff\\xff\\xff\\xff\\xff\\xff\\xff\\xff\\xff\\xff\\xff\\xff\\xff\\xff\\xff\\xff\\xff\\xff\\xff\\xff\\xff\\xff\\xff\\xff\\xff\\xff\\xff\\xff\\xff\\xff\\xff\\xff\\xff\\xff\\xff\\xff\\xff\\xff\\xff\\xff\\xff\\xff\\xff\\xff\\xff\\xff\\xff\\xff\\xff\\xff\\xff\\xff\\xff\\xff\\xff\\xff\\xff\\xff\\xff\\xff\\xff\\xff\\xff\\xff\\xff\\xff\\xff\\xff\\xff\\xff\\xff\\xff\\xff\\xff\\xff\\xff\\xff\\xff\\xff\\xff\\xff\\xff\\xff\\xff\\xff\\xff\\xff\\xff\\xff\\xff\\xff\\xff\\xff\\xff\\xff\\xff\\xff\\xff\\xff\\xff\\xff\\xff\\xff\\xff\\xff\\xff\\xff\\xff\\xff\\xff\\xff\\xff\\xff\\xff\\xff\\xff\\xff\\xff\\xff\\xff\\xff\\xff\\xff\\xff\\xff\\xff\\xff\\xff\\xff\\xff\\xff\\xff\\xff\\xff\\xff\\xff\\xff\\xff\\xff\\xff\\xff\\xff\\xff\\xff\\xff\\xff\\xff\\xff\\xff\\xff\\xff\\xff\\xff\\xff\\xff\\xff\\xff\\xff\\xff\\xff\\xff\\xff\\xff\\xff\\xff\\xff\\xff\\xff\\xff\\xff\\xff\\xff\\xff\\xff\\xff\\xff\\xff\\xff\\xff\\xff\\xff\\xff\\xff\\xff\\xff\\xff\\xff\\xff\\xff\\xff\\xff\\xff\\xff\\xff\\xff\\xff\\xff\\xff\\xff\\xff\\xff\\xff\\xff\\xff\\xff\\xff\\xff\\xff\\xff\\xff\\xff\\xff\\xff\\xff\\xff\\xff\\xff\\xff\\xff\\xff\\xff\\xff\\xff\\xff\\xff\\xff\\xff\\xff\\xff\\xff\\xff\\xff\\xff\\xff\\xff\\xff\\xff\\xff\\xff\\xff\\xff\\xff\\xff\\xff\\xff\\xff\\xff\\xff\\xff\\xff\\xff\\xff\\xff\\xff\\xff\\xff\\xff\\xff\\xff\\xff\\xff\\xff\\xff\\xff\\xff\\xff\\xff\\xff\\xff\\xff\\xff\\xff\\xff\\xff\\xff\\xff\\xff\\xff\\xff\\xff\\xff\\xff\\xff\\xff\\xff\\xff\\xff\\xff\\xff\\xff\\xff\\xff\\xff\\xff\\xff\\xff\\xff\\xff\\xff\\xff\\xff\\xff\\xff\\xff\\xff\\xff\\xff\\xff\\xff\\xff\\xff\\xff\\xff\\xff\\xff\\xff\\xff\\xff\\xff\\xff\\xff\\xff\\xff\\xff\\xff\\xff\\xff\\xff\\xff\\xff\\xff\\xff\\xff\\xff\\xff\\xff\\xff\\xff\\xff\\xff\\xff\\xff\\xff\\xff\\xff\\xff\\xff\\xff\\xff\\xff\\xff\\xff\\xff\\xff\\xff\\xff\\xff\\xff\\xff\\xff\\xff\\xff\\xff\\xff\\xff\\xff\\xff\\xff\\xff\\xff\\xff\\xff\\xff\\xff\\xff\\xff\\xff\\xff\\xff\\xff\\xff\\xff\\xff\\xff\\xff\\xff\\xff\\xff\\xff\\xff\\xff\\xff\\xff\\xff\\xff\\xff\\xff\\xff\\xff\\xff\\xff\\xff\\xff\\xff\\xff\\xff\\xff\\xff\\xff\\xff\\xff\\xff\\xff\\xff\\xff\\xff\\xff\\xff\\xff\\xff\\xff\\xff\\xff\\xff\\xff\\xff\\xff\\xff\\xff\\xff\\xff\\xff\\xff\\xff\\xff\\xff\\xff\\xff\\xff\\xff\\xff\\xff\\xff\\xff\\xff\\xff\\xff\\xff\\xff\\xff\\xff\\xff\\xff'"
      ]
     },
     "execution_count": 37,
     "metadata": {},
     "output_type": "execute_result"
    }
   ],
   "source": [
    "print(cycles)\n",
    "read_nand_command(cycles)\n",
    "#read 5000 bytes from a page\n",
    "read_nand_page_bytes(5000)"
   ]
  },
  {
   "cell_type": "code",
   "execution_count": 38,
   "id": "d7bcaa87-d9ac-47d5-86a7-1db31923b359",
   "metadata": {},
   "outputs": [],
   "source": [
    "# Close the connection\n",
    "ftdi.close()"
   ]
  },
  {
   "cell_type": "code",
   "execution_count": null,
   "id": "a0f6007b",
   "metadata": {},
   "outputs": [],
   "source": []
  }
 ],
 "metadata": {
  "kernelspec": {
   "display_name": "Python 3 (ipykernel)",
   "language": "python",
   "name": "python3"
  },
  "language_info": {
   "codemirror_mode": {
    "name": "ipython",
    "version": 3
   },
   "file_extension": ".py",
   "mimetype": "text/x-python",
   "name": "python",
   "nbconvert_exporter": "python",
   "pygments_lexer": "ipython3",
   "version": "3.12.4"
  }
 },
 "nbformat": 4,
 "nbformat_minor": 5
}
