{
 "cells": [
  {
   "cell_type": "markdown",
   "id": "3473b9ca",
   "metadata": {},
   "source": [
    "## Decode Linear Page Address to Page, Block, Plane Index"
   ]
  },
  {
   "cell_type": "code",
   "execution_count": 1,
   "id": "2835a960",
   "metadata": {},
   "outputs": [],
   "source": [
    "def decode_page_address(page_address: int, pages_per_block: int, planes: int) -> tuple[int, int, int]:\n",
    "    \"\"\"\n",
    "    Decode a linear page address into (page, block, plane_index)\n",
    "    \n",
    "    :param page_address:     The straight page address.\n",
    "    :param pages_per_block:  Number of pages in each block.\n",
    "    :param planes:           Number of planes (1, 2, 4, ...).\n",
    "    \n",
    "    :return: (page, block, plane_index)\n",
    "    \"\"\"\n",
    "    # 1) Extract 'page' within a block:\n",
    "    page = page_address % pages_per_block\n",
    "    \n",
    "    # 2) Remove 'page' bits to get the combined block/plane field:\n",
    "    block_plane_field = page_address // pages_per_block\n",
    "    \n",
    "    # 3) Extract 'plane_index' from the lower bits:\n",
    "    #    plane_index = (block_plane_field mod planes) \n",
    "    #    because if planes=2 => 1 bit; if planes=4 => 2 bits, etc.\n",
    "    plane_index = block_plane_field % planes\n",
    "    \n",
    "    # 4) \"pure block\" index :\n",
    "    block = block_plane_field\n",
    "    \n",
    "    #    If you prefer to keep plane bits inside 'block', then do:\n",
    "    # block = block_plane_field\n",
    "    \n",
    "    return (page, block, plane_index)"
   ]
  },
  {
   "cell_type": "markdown",
   "id": "696bd854",
   "metadata": {},
   "source": [
    "## Build Address (5 or 3 Cycles)"
   ]
  },
  {
   "cell_type": "code",
   "execution_count": 2,
   "id": "78326fb2",
   "metadata": {},
   "outputs": [],
   "source": [
    "def build_5_cycle_address(column: int, page: int, block: int, plane: int, lun: int) -> list[int]:\n",
    "    \"\"\"\n",
    "    Build 5 address cycles (bytes) according to the layout:\n",
    "    1) Column address (16 bits):\n",
    "       - Cycle 1 => column[7..0]\n",
    "       - Cycle 2 => column[15..8]\n",
    "    2) Page address (10 bits total):\n",
    "       - Cycle 3 => page[7..0]        (lowest 8 bits)\n",
    "       - Cycle 4 => page[9..8]       (bits [1..0])\n",
    "    3) Plane (2 bits), embedded in BA[11..10]:\n",
    "       - Cycle 4 bits [3..2] => plane[1..0]\n",
    "    4) Block address (10 bits), combined with plane bits => total 12 bits:\n",
    "       - Cycle 4 bits [7..4] => block[3..0]   (changed as requested)\n",
    "       - Cycle 5 bits [5..0] => block[9..4]   (changed as requested)\n",
    "    5) LUN (1 bit):\n",
    "       - Cycle 5 bit [6] => lun\n",
    "    :param column: up to 16 bits (0..65535)\n",
    "    :param page:   up to 10 bits (0..1023)\n",
    "    :param block:  up to 10 bits (0..1023) – plane bits separate\n",
    "    :param plane:  0..3 (2 bits)\n",
    "    :param lun:    0..1 (1 bit)\n",
    "    :return: List of 5 bytes [cycle1..cycle5].\n",
    "    \"\"\"\n",
    "\n",
    "    # ---------------------\n",
    "    # Cycle 1 => lower 8 bits of column\n",
    "    # Cycle 2 => upper 8 bits of column\n",
    "    # ---------------------\n",
    "    c1 = column & 0xFF\n",
    "    c2 = (column >> 8) & 0xFF\n",
    "    \n",
    "    # ---------------------\n",
    "    # Cycle 3 => lower 8 bits of page: page[7..0]\n",
    "    # ---------------------\n",
    "    c3 = page & 0xFF\n",
    "    \n",
    "    # ---------------------\n",
    "    # Cycle 4 => c4[7..0]:\n",
    "    #   bits[7..4] -> block[3..0] \n",
    "    #   bits[3..2] -> plane[1..0]\n",
    "    #   bits[1..0] -> page[9..8]\n",
    "    # ---------------------\n",
    "    c4 = 0\n",
    "    # block[3..0] => lower 4 bits of block\n",
    "    c4 |= (block & 0xF) << 4\n",
    "    # plane => 2 bits in [3..2]\n",
    "    c4 |= (plane & 0x3) << 2\n",
    "    # top 2 bits of page => page[9..8]\n",
    "    c4 |= (page >> 8) & 0x3\n",
    "    \n",
    "    \n",
    "    # ---------------------\n",
    "    # Cycle 5 => c5[7..0]:\n",
    "    #   bits[5..0] -> block[9..4]\n",
    "    #   bit [6]    -> lun\n",
    "    #   bit [7]    -> 0\n",
    "    # ---------------------\n",
    "    c5 = 0\n",
    "    # block[9..4] => 6 bits\n",
    "    c5 |= ((block >> 4) & 0x3F)\n",
    "    # lun => bit [6]\n",
    "    c5 |= ((lun & 0x1) << 6)\n",
    "    \n",
    "    return [c1, c2, c3, c4, c5]"
   ]
  },
  {
   "cell_type": "code",
   "execution_count": 3,
   "id": "e761f40a",
   "metadata": {},
   "outputs": [],
   "source": [
    "def build_3_cycle_address(page: int, block: int, plane: int, lun: int) -> list[int]:\n",
    "    \n",
    "    # ---------------------\n",
    "    # Cycle 1 => lower 8 bits of page: page[7..0]\n",
    "    # ---------------------\n",
    "    c1 = page & 0xFF\n",
    "    \n",
    "    # ---------------------\n",
    "    # Cycle 2 => c4[7..0]:\n",
    "    #   bits[7..4] -> block[3..0] \n",
    "    #   bits[3..2] -> plane[1..0]\n",
    "    #   bits[1..0] -> page[9..8]\n",
    "    # ---------------------\n",
    "    c2 = 0\n",
    "    # block[3..0] => lower 4 bits of block\n",
    "    c2 |= (block & 0xF) << 4\n",
    "    # plane => 2 bits in [3..2]\n",
    "    c2 |= (plane & 0x3) << 2\n",
    "    # top 2 bits of page => page[9..8]\n",
    "    c2 |= (page >> 8) & 0x3\n",
    "    \n",
    "    \n",
    "    # ---------------------\n",
    "    # Cycle 3 => c5[7..0]:\n",
    "    #   bits[5..0] -> block[9..4]\n",
    "    #   bit [6]    -> lun\n",
    "    #   bit [7]    -> 0\n",
    "    # ---------------------\n",
    "    c3 = 0\n",
    "    # block[9..4] => 6 bits\n",
    "    c3 |= ((block >> 4) & 0x3F)\n",
    "    # lun => bit [6]\n",
    "    c3 |= ((lun & 0x1) << 6)\n",
    "    \n",
    "    return [c1, c2, c3]"
   ]
  },
  {
   "cell_type": "markdown",
   "id": "bfce5999",
   "metadata": {},
   "source": [
    "## Commands for Nand Flash and FTDI"
   ]
  },
  {
   "cell_type": "code",
   "execution_count": 4,
   "id": "5096f7e3-151d-4e1e-b0b0-8f22aad289b4",
   "metadata": {},
   "outputs": [],
   "source": [
    "#FTDI Commands\n",
    "ACTIVATE_COMMNAD_LATCH = 0x40\n",
    "ACTIVATE_ADDRESS_LATCH = 0x80\n",
    "ACTIVATE_WRITE_PROTECT = 0x20\n",
    "DEACTIVATE_CA_LATCH = 0x00\n",
    "\n",
    "#Nand Flash Commands\n",
    "NAND_CMD_READ_CYCLE1 = 0x00\n",
    "NAND_CMD_READ_CYCLE2 = 0x30\n",
    "\n",
    "NAND_CMD_PROGRAM_CYCLE1 = 0x80\n",
    "NAND_CMD_PROGRAM_CYCLE2 = 0x10\n",
    "\n",
    "NAND_CMD_BLOCK_ERASE_CYCLE1 = 0x60\n",
    "NAND_CMD_BLOCK_ERASE_CYCLE2 = 0xD0\n",
    "\n",
    "NAND_CMD_RESET = 0xFF\n",
    "NAND_CMD_READ_STATUS = 0x70\n",
    "\n",
    "WR_ADDRESS_CYCLE = 5\n",
    "ERASE_ADDRESS_CYCLE = 3"
   ]
  },
  {
   "cell_type": "markdown",
   "id": "78c88520",
   "metadata": {},
   "source": [
    "## Nand Read Page Functions"
   ]
  },
  {
   "cell_type": "code",
   "execution_count": 5,
   "id": "531e2653",
   "metadata": {},
   "outputs": [],
   "source": [
    "def read_nand_command (cycle):\n",
    "    #Command Cycle 1\n",
    "    cmds1 = [Ftdi.WRITE_EXTENDED, ACTIVATE_COMMNAD_LATCH, 0] \n",
    "    cmds1 += [NAND_CMD_READ_CYCLE1]\n",
    "    ftdi.write_data(Array('B', cmds1))\n",
    "    \n",
    "    #Address Cycle 5 Consequtive\n",
    "    cmds2 = [Ftdi.WRITE_EXTENDED, ACTIVATE_ADDRESS_LATCH, 0 , cycle[0]]\n",
    "    for i in range(1,WR_ADDRESS_CYCLE,1):\n",
    "        cmds2 += [Ftdi.WRITE_SHORT, 0, cycle[i]]\n",
    "    ftdi.write_data(Array('B', cmds2))\n",
    "    \n",
    "    #Command Cycle 2\n",
    "    cmds3 = [Ftdi.WRITE_EXTENDED, ACTIVATE_COMMNAD_LATCH, 0]\n",
    "    cmds3 += [NAND_CMD_READ_CYCLE2]\n",
    "    ftdi.write_data(Array('B', cmds3))\n",
    "    \n",
    "    \n",
    "    print(f\"Command 1:  {cmds1}\")\n",
    "    print(f\"Command 2:  {cmds2}\")\n",
    "    print(f\"Command 3:  {cmds3}\")"
   ]
  },
  {
   "cell_type": "code",
   "execution_count": 6,
   "id": "ffc04f78-ddd7-43ec-b056-a5203d358767",
   "metadata": {},
   "outputs": [],
   "source": [
    "def read_nand_page_bytes(read_len):\n",
    "    cmds = []\n",
    "    \n",
    "    #Data Read Cycle\n",
    "    cmds += [ftdi.READ_EXTENDED, DEACTIVATE_CA_LATCH , 0]\n",
    "    \n",
    "    for i in range(1, read_len, 1):\n",
    "        cmds += [Ftdi.READ_SHORT, 0]\n",
    "        \n",
    "    cmds.append(Ftdi.SEND_IMMEDIATE)\n",
    "    ftdi.write_data(Array('B', cmds))\n",
    "    data = ftdi.read_data_bytes(read_len)\n",
    "    return bytes(data)"
   ]
  },
  {
   "cell_type": "markdown",
   "id": "524513ec",
   "metadata": {},
   "source": [
    "## NAND Write Page Functions"
   ]
  },
  {
   "cell_type": "code",
   "execution_count": 7,
   "id": "54251a49",
   "metadata": {},
   "outputs": [],
   "source": [
    "def program_nand_page(cycle, data):\n",
    "    #Command Cycle 1\n",
    "    activateCMD = ACTIVATE_WRITE_PROTECT | ACTIVATE_COMMNAD_LATCH\n",
    "    cmds1 = [Ftdi.WRITE_EXTENDED, activateCMD, 0] \n",
    "    cmds1 += [NAND_CMD_PROGRAM_CYCLE1]\n",
    "    \n",
    "    #Address Cycle 5 Consequtive\n",
    "    activateADR = ACTIVATE_WRITE_PROTECT | ACTIVATE_ADDRESS_LATCH\n",
    "    cmds2 = [Ftdi.WRITE_EXTENDED, activateADR, 0 , cycle[0]]\n",
    "    for i in range(1,WR_ADDRESS_CYCLE,1):\n",
    "        cmds2 += [Ftdi.WRITE_SHORT, 0, cycle[i]]\n",
    "    \n",
    "    #data cycle \n",
    "    activateDTC = ACTIVATE_WRITE_PROTECT | DEACTIVATE_CA_LATCH\n",
    "    cmds3 = [Ftdi.WRITE_EXTENDED, activateDTC , 0, data[0]]\n",
    "    for i in range(1,len(data),1):\n",
    "        cmds3 += [Ftdi.WRITE_SHORT, 0, data[i]]\n",
    "    \n",
    "    #Command Cycle 2\n",
    "    activateCMD = ACTIVATE_WRITE_PROTECT | ACTIVATE_COMMNAD_LATCH\n",
    "    cmds4 = [Ftdi.WRITE_EXTENDED, activateCMD, 0]\n",
    "    cmds4 += [NAND_CMD_PROGRAM_CYCLE2]\n",
    "    \n",
    "    #print(f\"Command 1:  {cmds1}\")\n",
    "    #print(f\"Command 2:  {cmds2}\")\n",
    "    #print(f\"Command 3:  {cmds3}\")\n",
    "    #print(f\"Command 4:  {cmds4}\")\n",
    "    \n",
    "    ftdi.write_data(Array('B', cmds1))\n",
    "    time.sleep(0.01)\n",
    "    ftdi.write_data(Array('B', cmds2))\n",
    "    time.sleep(0.01)\n",
    "    ftdi.write_data(Array('B', cmds3))\n",
    "    time.sleep(0.01)\n",
    "    ftdi.write_data(Array('B', cmds4))\n",
    "    time.sleep(0.01)"
   ]
  },
  {
   "cell_type": "code",
   "execution_count": 8,
   "id": "6be16889",
   "metadata": {},
   "outputs": [],
   "source": [
    "def status_register_check():\n",
    "    #Staus Cycle\n",
    "    cmds1 = [Ftdi.WRITE_EXTENDED, ACTIVATE_COMMNAD_LATCH, 0]\n",
    "    cmds1 += [NAND_CMD_READ_STATUS]\n",
    "    ftdi.write_data(Array('B', cmds1))\n",
    "    #print(f\"Command 5:  {cmds1}\")\n",
    "        \n",
    "    cmds1 = [ftdi.READ_EXTENDED, DEACTIVATE_CA_LATCH , 0]\n",
    "    cmds1 += [Ftdi.READ_SHORT, 0]\n",
    "        \n",
    "    cmds1.append(Ftdi.SEND_IMMEDIATE)\n",
    "    ftdi.write_data(Array('B', cmds1))\n",
    "    \n",
    "    status = ftdi.read_data_bytes(1)\n",
    "    state = ord(status)\n",
    "    \n",
    "    print(f\"Status:{state:08b}\")\n",
    "    if state == 96:\n",
    "        print(\"Successfully Done!!\")\n",
    "    else:\n",
    "        print(\"failed, check the status byte\")"
   ]
  },
  {
   "cell_type": "code",
   "execution_count": 9,
   "id": "ba335fe8",
   "metadata": {},
   "outputs": [],
   "source": [
    "def createDataStream(sizeDataArray):\n",
    "    dataStream = []\n",
    "    data = 0\n",
    "    for i in range(0, sizeDataArray, 1):\n",
    "        data += 1\n",
    "        dataStream.append(data)\n",
    "        if (data >= 8):\n",
    "            data = 0\n",
    "    print(len(dataStream))\n",
    "    return dataStream"
   ]
  },
  {
   "cell_type": "code",
   "execution_count": 32,
   "id": "8eb2a929",
   "metadata": {},
   "outputs": [],
   "source": [
    "def createDataStreamZeros(sizeZerosArray):\n",
    "    dataStream = []\n",
    "    for i in range(0, sizeZerosArray, 1):\n",
    "        dataStream.append(0)\n",
    "    #print(len(dataStream))\n",
    "    #print(dataStream)\n",
    "    return dataStream"
   ]
  },
  {
   "cell_type": "code",
   "execution_count": 11,
   "id": "13155dfa",
   "metadata": {
    "scrolled": true
   },
   "outputs": [],
   "source": [
    "def createCharacterStream(sizechrArray):\n",
    "    chrStream = \"\"\n",
    "    data = 0\n",
    "    for i in range(0, sizechrArray, 1):\n",
    "        data = \"A\"\n",
    "        chrStream += data\n",
    "    print(len(chrStream))\n",
    "    print(chrStream)\n",
    "    return chrStream"
   ]
  },
  {
   "cell_type": "markdown",
   "id": "de4f665e",
   "metadata": {},
   "source": [
    "## NAND Erase Block Functions"
   ]
  },
  {
   "cell_type": "code",
   "execution_count": 12,
   "id": "cad11f3a",
   "metadata": {},
   "outputs": [],
   "source": [
    "def erase_nand_block (cycle):\n",
    "    #Command Cycle 1\n",
    "    activateCMD = ACTIVATE_WRITE_PROTECT | ACTIVATE_COMMNAD_LATCH\n",
    "    cmds1 = [Ftdi.WRITE_EXTENDED, activateCMD, 0] \n",
    "    cmds1 += [NAND_CMD_BLOCK_ERASE_CYCLE1]\n",
    "    \n",
    "    #Address Cycle 3 Consequtive\n",
    "    activateADR = ACTIVATE_WRITE_PROTECT | ACTIVATE_ADDRESS_LATCH\n",
    "    cmds2 = [Ftdi.WRITE_EXTENDED, activateADR, 0 , cycle[0]]\n",
    "    for i in range(1,ERASE_ADDRESS_CYCLE,1):\n",
    "        cmds2 += [Ftdi.WRITE_SHORT, 0, cycle[i]]\n",
    "    \n",
    "    #Command Cycle 2\n",
    "    activateCMD = ACTIVATE_WRITE_PROTECT | ACTIVATE_COMMNAD_LATCH\n",
    "    cmds3 = [Ftdi.WRITE_EXTENDED, activateCMD, 0]\n",
    "    cmds3 += [NAND_CMD_BLOCK_ERASE_CYCLE2]\n",
    "    \n",
    "    print(f\"Command 1:  {cmds1}\")\n",
    "    print(f\"Command 2:  {cmds2}\")\n",
    "    print(f\"Command 4:  {cmds3}\")\n",
    "    \n",
    "    ftdi.write_data(Array('B', cmds1))\n",
    "    ftdi.write_data(Array('B', cmds2))\n",
    "    ftdi.write_data(Array('B', cmds3))\n",
    "    time.sleep(1)"
   ]
  },
  {
   "cell_type": "markdown",
   "id": "0ed11f4f",
   "metadata": {},
   "source": [
    "## FTDI Initialization"
   ]
  },
  {
   "cell_type": "code",
   "execution_count": 13,
   "id": "fdf43c8c-0e36-4bbb-9718-cb67eb503912",
   "metadata": {},
   "outputs": [],
   "source": [
    "#essential functions\n",
    "import usb.core\n",
    "import usb.util\n",
    "import time\n",
    "from array import array as Array\n",
    "from pyftdi.ftdi import *"
   ]
  },
  {
   "cell_type": "code",
   "execution_count": 14,
   "id": "b7f862c0-5a9a-4240-98f3-24d1e181febe",
   "metadata": {},
   "outputs": [
    {
     "name": "stdout",
     "output_type": "stream",
     "text": [
      "[147, 64, 0, 255]\n"
     ]
    },
    {
     "data": {
      "text/plain": [
       "4"
      ]
     },
     "execution_count": 14,
     "metadata": {},
     "output_type": "execute_result"
    }
   ],
   "source": [
    "#essential functions\n",
    "VENDOR_ID = 0x0403\n",
    "PRODUCT_ID = 0x6010\n",
    "\n",
    "# direction_mask: 1 means output, 0 means input\n",
    "# value_mask:     1 sets the pin high, 0 sets it low\n",
    "DIRECTION_MASK = 0xFF  # all upper 8 bits as output\n",
    "VALUE_MASK = 0x00     # pattern to set the pins to\n",
    "\n",
    "# Initialize FTDI\n",
    "#Creates an instance or object of the Ftdi class and stored in the ftdi variable\n",
    "ftdi = Ftdi()\n",
    "\n",
    "#Open a new interface to the specified FTDI device.\n",
    "#open() method establishes a connection to a specific FTDI device.\n",
    "ftdi.open(VENDOR_ID, PRODUCT_ID, interface=1)\n",
    "\n",
    "#Configures the FTDI device into MCU Host Bus Emulation mode\n",
    "ftdi.set_bitmode(0x00, Ftdi.BitMode.MCU)  # MCU = 0x08 (MCU Host Bus Emulation mode)\n",
    "\n",
    "#Disable the “divide-by-5” clock prescaler allows higher frequency operation\n",
    "ftdi.write_data(Array('B', [Ftdi.DISABLE_CLK_DIV5]))\n",
    "\n",
    "#the FTDI device waits (in milliseconds) \n",
    "#before sending any partially filled USB packet up to the host if the buffer is not yet full.\n",
    "ftdi.set_latency_timer(2)\n",
    "\n",
    "\n",
    "# This tells the FTDI chip to set upper 8 bits with these direction and value settings\n",
    "ftdi.write_data(bytes([\n",
    "    Ftdi.SET_BITS_HIGH,\n",
    "    VALUE_MASK,\n",
    "    DIRECTION_MASK\n",
    "]))\n",
    "\n",
    "#Any pending outbound data in the transmit buffer is cleared\n",
    "ftdi.purge_buffers()\n",
    "\n",
    "#Reset the the nand flash chip\n",
    "cmdsRST = [Ftdi.WRITE_EXTENDED, ACTIVATE_COMMNAD_LATCH, 0, NAND_CMD_RESET]\n",
    "print (cmdsRST)\n",
    "ftdi.write_data(Array('B', cmdsRST))"
   ]
  },
  {
   "cell_type": "markdown",
   "id": "fe3e157c",
   "metadata": {},
   "source": [
    "# MAIN CODE: Read, Write, Erase Operations of Nand Flash Memory"
   ]
  },
  {
   "cell_type": "markdown",
   "id": "77673199",
   "metadata": {},
   "source": [
    "## Read Page Byte by Byte"
   ]
  },
  {
   "cell_type": "code",
   "execution_count": 15,
   "id": "0ac26bd9",
   "metadata": {},
   "outputs": [
    {
     "name": "stdout",
     "output_type": "stream",
     "text": [
      "Address 121 => Page 121, Block 0, Plane 0\n"
     ]
    }
   ],
   "source": [
    "#convert linear page address\n",
    "linearPageAddress = 121\n",
    "pagesPerBlock = 1024\n",
    "NumberOfPlane = 4\n",
    "\n",
    "pageX, blockX, planeX = decode_page_address(linearPageAddress, pagesPerBlock, NumberOfPlane)\n",
    "\n",
    "print(f\"Address {linearPageAddress} => Page {pageX}, Block {blockX}, Plane {planeX}\")"
   ]
  },
  {
   "cell_type": "code",
   "execution_count": 16,
   "id": "357cf0f7",
   "metadata": {},
   "outputs": [
    {
     "name": "stdout",
     "output_type": "stream",
     "text": [
      "Address Cycles: [0, 0, 121, 0, 0]\n",
      "5 Address Cycles:\n",
      " Cycle 1: 0x00  (bin: 00000000)\n",
      " Cycle 2: 0x00  (bin: 00000000)\n",
      " Cycle 3: 0x79  (bin: 01111001)\n",
      " Cycle 4: 0x00  (bin: 00000000)\n",
      " Cycle 5: 0x00  (bin: 00000000)\n"
     ]
    }
   ],
   "source": [
    "#create address cycle\n",
    "column = 0\n",
    "page   = pageX\n",
    "block  = blockX\n",
    "plane  = planeX\n",
    "lun    = 0\n",
    "\n",
    "#create 5 address cycle\n",
    "cycles = build_5_cycle_address(column, page, block, plane, lun)\n",
    "print(f\"Address Cycles: {cycles}\")\n",
    "\n",
    "print(\"5 Address Cycles:\")\n",
    "for i, val in enumerate(cycles, start=1):\n",
    "    print(f\" Cycle {i}: 0x{val:02X}  (bin: {val:08b})\")\n"
   ]
  },
  {
   "cell_type": "code",
   "execution_count": 17,
   "id": "ac25b9b8",
   "metadata": {
    "scrolled": true
   },
   "outputs": [
    {
     "name": "stdout",
     "output_type": "stream",
     "text": [
      "Command 1:  [147, 64, 0, 0]\n",
      "Command 2:  [147, 128, 0, 0, 146, 0, 0, 146, 0, 121, 146, 0, 0, 146, 0, 0]\n",
      "Command 3:  [147, 64, 0, 48]\n"
     ]
    },
    {
     "data": {
      "text/plain": [
       "b'\\x00\\x00\\x00\\x00\\x00\\x00\\x00\\x00\\x00\\x00\\x00\\x00\\x00\\x00\\x00\\x00\\x00\\x00\\x00\\x00\\x00\\x00\\x00\\x00\\x00\\x00\\x00\\x00\\x00\\x00\\x00\\x00\\x00\\x00\\x00\\x00\\x00\\x00\\x00\\x00\\x00\\x00\\x00\\x00\\x00\\x00\\x00\\x00\\x00\\x00\\x00\\x00\\x00\\x00\\x00\\x00\\x00\\x00\\x00\\x00\\x00\\x00\\x00\\x00\\x00\\x00\\x00\\x00\\x00\\x00\\x00\\x00\\x00\\x00\\x00\\x00\\x00\\x00\\x00\\x00\\x00\\x00\\x00\\x00\\x00\\x00\\x00\\x00\\x00\\x00\\x00\\x00\\x00\\x00\\x00\\x00\\x00\\x00\\x00\\x00'"
      ]
     },
     "execution_count": 17,
     "metadata": {},
     "output_type": "execute_result"
    }
   ],
   "source": [
    "byteLength = 100\n",
    "\n",
    "#Send the command and address cycles before page read\n",
    "read_nand_command(cycles)\n",
    "\n",
    "#Read byte by byte from Data Register\n",
    "read_nand_page_bytes(byteLength)"
   ]
  },
  {
   "cell_type": "markdown",
   "id": "d3e0b1f3",
   "metadata": {},
   "source": [
    "## Program Pages in a Block"
   ]
  },
  {
   "cell_type": "code",
   "execution_count": 18,
   "id": "6bd27e50",
   "metadata": {},
   "outputs": [],
   "source": [
    "linearPageAddress = 121\n",
    "pagesPerBlock = 1024\n",
    "NumberOfPlane = 4\n",
    "\n",
    "pageX, blockX, planeX = decode_page_address(linearPageAddress, pagesPerBlock, NumberOfPlane)\n",
    "addressCycleStream = build_5_cycle_address(0, pageX, blockX, planeX, 0)"
   ]
  },
  {
   "cell_type": "code",
   "execution_count": 19,
   "id": "b8249482",
   "metadata": {},
   "outputs": [
    {
     "name": "stdout",
     "output_type": "stream",
     "text": [
      "16384\n",
      "Status:01100000\n",
      "Successfully Done!!\n"
     ]
    }
   ],
   "source": [
    "pageBytes = 16384\n",
    "data = createDataStream(pageBytes)\n",
    "\n",
    "program_nand_page (addressCycleStream, data)\n",
    "\n",
    "status_register_check()"
   ]
  },
  {
   "cell_type": "code",
   "execution_count": 20,
   "id": "0bba7472",
   "metadata": {},
   "outputs": [
    {
     "name": "stdout",
     "output_type": "stream",
     "text": [
      "Command 1:  [147, 64, 0, 0]\n",
      "Command 2:  [147, 128, 0, 0, 146, 0, 0, 146, 0, 121, 146, 0, 0, 146, 0, 0]\n",
      "Command 3:  [147, 64, 0, 48]\n"
     ]
    },
    {
     "data": {
      "text/plain": [
       "b'\\x00\\x00\\x00\\x00\\x00\\x00\\x00\\x00\\x00\\x00\\x00\\x00\\x00\\x00\\x00\\x00\\x00\\x00\\x00\\x00\\x00\\x00\\x00\\x00\\x00\\x00\\x00\\x00\\x00\\x04\\x00\\x00\\x00\\x00\\x00\\x00\\x00\\x00\\x00\\x00\\x00\\x00\\x00\\x00\\x00\\x00\\x00\\x00\\x00\\x00\\x00\\x00\\x00\\x00\\x00\\x00\\x00\\x00\\x00\\x00\\x00\\x00\\x00\\x00\\x00\\x00\\x00\\x00\\x00\\x00\\x00\\x00\\x00\\x00\\x00\\x00\\x00\\x00\\x00\\x00\\x00\\x00\\x00\\x00\\x00\\x00\\x00\\x00\\x00\\x00\\x00\\x00\\x00\\x00\\x00\\x00\\x00\\x00\\x00\\x00'"
      ]
     },
     "execution_count": 20,
     "metadata": {},
     "output_type": "execute_result"
    }
   ],
   "source": [
    "ftdi.purge_buffers()\n",
    "read_nand_command(addressCycleStream)\n",
    "read_nand_page_bytes(100)"
   ]
  },
  {
   "cell_type": "markdown",
   "id": "3fb85c9a",
   "metadata": {},
   "source": [
    "## Erase a Block"
   ]
  },
  {
   "cell_type": "code",
   "execution_count": 33,
   "id": "c0a11776",
   "metadata": {},
   "outputs": [
    {
     "name": "stdout",
     "output_type": "stream",
     "text": [
      "Address 121 => Page 121, Block 0, Plane 0\n",
      "3 Address Cycles:\n",
      " Cycle 1: 0x79  (bin: 01111001)\n",
      " Cycle 2: 0x00  (bin: 00000000)\n",
      " Cycle 3: 0x00  (bin: 00000000)\n"
     ]
    }
   ],
   "source": [
    "linearPageAddress = 121\n",
    "pagesPerBlock = 1024\n",
    "NumberOfPlane = 4\n",
    "\n",
    "pageX, blockX, planeX = decode_page_address(linearPageAddress, pagesPerBlock, NumberOfPlane)\n",
    "print(f\"Address {linearPageAddress} => Page {pageX}, Block {blockX}, Plane {planeX}\")\n",
    "\n",
    "blockEraseAddress = build_3_cycle_address(pageX, blockX, planeX, 0)\n",
    "\n",
    "print(\"3 Address Cycles:\")\n",
    "for i, val in enumerate(blockEraseAddress, start=1):\n",
    "    print(f\" Cycle {i}: 0x{val:02X}  (bin: {val:08b})\")"
   ]
  },
  {
   "cell_type": "code",
   "execution_count": 34,
   "id": "dc05d0df",
   "metadata": {},
   "outputs": [
    {
     "name": "stdout",
     "output_type": "stream",
     "text": [
      "Command 1:  [147, 96, 0, 96]\n",
      "Command 2:  [147, 160, 0, 121, 146, 0, 0, 146, 0, 0]\n",
      "Command 4:  [147, 96, 0, 208]\n",
      "Status:01100000\n",
      "Successfully Done!!\n"
     ]
    }
   ],
   "source": [
    "erase_nand_block (blockEraseAddress)\n",
    "\n",
    "status_register_check()"
   ]
  },
  {
   "cell_type": "code",
   "execution_count": 35,
   "id": "99bd39e4",
   "metadata": {},
   "outputs": [
    {
     "name": "stdout",
     "output_type": "stream",
     "text": [
      "Command 1:  [147, 64, 0, 0]\n",
      "Command 2:  [147, 128, 0, 0, 146, 0, 0, 146, 0, 255, 146, 0, 3, 146, 0, 0]\n",
      "Command 3:  [147, 64, 0, 48]\n"
     ]
    },
    {
     "data": {
      "text/plain": [
       "b'\\xff\\xff\\xff\\xff\\xff\\xff\\xff\\xff\\xff\\xff\\xff\\xff\\xff\\xff\\xff\\xff\\xff\\xff\\xff\\xff\\xff\\xff\\xff\\xff\\xff\\xff\\xff\\xff\\xff\\xff\\xff\\xff\\xff\\xff\\xff\\xff\\xff\\xff\\xff\\xff\\xff\\xff\\xff\\xff\\xff\\xff\\xff\\xff\\xff\\xff\\xff\\xff\\xff\\xff\\xff\\xff\\xff\\xff\\xff\\xff\\xff\\xff\\xff\\xff\\xff\\xff\\xff\\xff\\xff\\xff\\xff\\xff\\xff\\xff\\xff\\xff\\xff\\xff\\xff\\xff\\xff\\xff\\xff\\xff\\xff\\xff\\xff\\xff\\xff\\xff\\xff\\xff\\xff\\xff\\xff\\xff\\xff\\xff\\xff\\xff'"
      ]
     },
     "execution_count": 35,
     "metadata": {},
     "output_type": "execute_result"
    }
   ],
   "source": [
    "ftdi.purge_buffers()\n",
    "read_nand_command(addressCycleStream)\n",
    "read_nand_page_bytes(100)"
   ]
  },
  {
   "cell_type": "code",
   "execution_count": 24,
   "id": "88704183",
   "metadata": {},
   "outputs": [],
   "source": [
    "#ftdi.close();"
   ]
  },
  {
   "cell_type": "markdown",
   "id": "ca587373",
   "metadata": {},
   "source": [
    "## Program a block"
   ]
  },
  {
   "cell_type": "code",
   "execution_count": 36,
   "id": "58bd9112",
   "metadata": {},
   "outputs": [
    {
     "name": "stdout",
     "output_type": "stream",
     "text": [
      "Status:01100000\n",
      "Successfully Done!!\n"
     ]
    }
   ],
   "source": [
    "pagePerBlock = 1024\n",
    "pageno = 0\n",
    "blockno = 0\n",
    "planeno = 0\n",
    "pageBytes = 16384\n",
    "for i in range(0, pagePerBlock, 1):\n",
    "    pageno = i\n",
    "    addressCycleStream = build_5_cycle_address(0, pageno, blockno, planeno, 0)\n",
    "    data = createDataStreamZeros(pageBytes)\n",
    "    program_nand_page (addressCycleStream, data)\n",
    "status_register_check()"
   ]
  },
  {
   "cell_type": "code",
   "execution_count": 53,
   "id": "64ce0a9d",
   "metadata": {},
   "outputs": [
    {
     "name": "stdout",
     "output_type": "stream",
     "text": [
      "Command 1:  [147, 64, 0, 0]\n",
      "Command 2:  [147, 128, 0, 0, 146, 0, 0, 146, 0, 101, 146, 0, 0, 146, 0, 0]\n",
      "Command 3:  [147, 64, 0, 48]\n",
      "16384\n",
      "<class 'bytes'>\n",
      "0\n"
     ]
    }
   ],
   "source": [
    "pagePerBlock = 1024\n",
    "pageno = 101\n",
    "blockno = 0\n",
    "planeno = 0\n",
    "pageBytes = 16384\n",
    "max_rx_buffer = 6000\n",
    "readData = bytes()\n",
    "ftdi.purge_buffers()\n",
    "\n",
    "addressCycleStream = build_5_cycle_address(0, pageno, blockno, planeno, 0)\n",
    "read_nand_command(addressCycleStream)\n",
    "\n",
    "for i in range(0, pageBytes//max_rx_buffer, 1):\n",
    "    readData += read_nand_page_bytes(max_rx_buffer)\n",
    "readData += read_nand_page_bytes(pageBytes%max_rx_buffer)\n",
    "\n",
    "#Check the Programmed Page\n",
    "print(len(readData))\n",
    "print(type(readData))\n",
    "print(readData[10])"
   ]
  },
  {
   "cell_type": "code",
   "execution_count": null,
   "id": "da799021",
   "metadata": {},
   "outputs": [],
   "source": []
  }
 ],
 "metadata": {
  "kernelspec": {
   "display_name": "Python 3 (ipykernel)",
   "language": "python",
   "name": "python3"
  },
  "language_info": {
   "codemirror_mode": {
    "name": "ipython",
    "version": 3
   },
   "file_extension": ".py",
   "mimetype": "text/x-python",
   "name": "python",
   "nbconvert_exporter": "python",
   "pygments_lexer": "ipython3",
   "version": "3.12.4"
  }
 },
 "nbformat": 4,
 "nbformat_minor": 5
}
