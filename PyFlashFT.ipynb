{
 "cells": [
  {
   "cell_type": "markdown",
   "id": "3473b9ca",
   "metadata": {},
   "source": [
    "## Decode Linear Page Address to Page, Block, Plane Index"
   ]
  },
  {
   "cell_type": "code",
   "execution_count": 1,
   "id": "2835a960",
   "metadata": {},
   "outputs": [],
   "source": [
    "def decode_page_address(page_address: int, pages_per_block: int, planes: int) -> tuple[int, int, int]:\n",
    "    \"\"\"\n",
    "    Decode a linear page address into (page, block, plane_index)\n",
    "    \n",
    "    :param page_address:     The straight page address.\n",
    "    :param pages_per_block:  Number of pages in each block.\n",
    "    :param planes:           Number of planes (1, 2, 4, ...).\n",
    "    \n",
    "    :return: (page, block, plane_index)\n",
    "    \"\"\"\n",
    "    # 1) Extract 'page' within a block:\n",
    "    page = page_address % pages_per_block\n",
    "    \n",
    "    # 2) Remove 'page' bits to get the combined block/plane field:\n",
    "    block_plane_field = page_address // pages_per_block\n",
    "    \n",
    "    # 3) Extract 'plane_index' from the lower bits:\n",
    "    #    plane_index = (block_plane_field mod planes) \n",
    "    #    because if planes=2 => 1 bit; if planes=4 => 2 bits, etc.\n",
    "    plane_index = block_plane_field % planes\n",
    "    \n",
    "    # 4) \"pure block\" index :\n",
    "    block = block_plane_field\n",
    "    \n",
    "    #    If you prefer to keep plane bits inside 'block', then do:\n",
    "    # block = block_plane_field\n",
    "    \n",
    "    return (page, block, plane_index)"
   ]
  },
  {
   "cell_type": "markdown",
   "id": "696bd854",
   "metadata": {},
   "source": [
    "## Build Address (5 or 3 Cycles)"
   ]
  },
  {
   "cell_type": "code",
   "execution_count": 2,
   "id": "78326fb2",
   "metadata": {},
   "outputs": [],
   "source": [
    "def build_5_cycle_address(column: int, page: int, block: int, plane: int, lun: int) -> list[int]:\n",
    "    \"\"\"\n",
    "    Build 5 address cycles (bytes) according to the layout:\n",
    "    1) Column address (16 bits):\n",
    "       - Cycle 1 => column[7..0]\n",
    "       - Cycle 2 => column[15..8]\n",
    "    2) Page address (10 bits total):\n",
    "       - Cycle 3 => page[7..0]        (lowest 8 bits)\n",
    "       - Cycle 4 => page[9..8]       (bits [1..0])\n",
    "    3) Plane (2 bits), embedded in BA[11..10]:\n",
    "       - Cycle 4 bits [3..2] => plane[1..0]\n",
    "    4) Block address (10 bits), combined with plane bits => total 12 bits:\n",
    "       - Cycle 4 bits [7..4] => block[3..0]   (changed as requested)\n",
    "       - Cycle 5 bits [5..0] => block[9..4]   (changed as requested)\n",
    "    5) LUN (1 bit):\n",
    "       - Cycle 5 bit [6] => lun\n",
    "    :param column: up to 16 bits (0..65535)\n",
    "    :param page:   up to 10 bits (0..1023)\n",
    "    :param block:  up to 10 bits (0..1023) – plane bits separate\n",
    "    :param plane:  0..3 (2 bits)\n",
    "    :param lun:    0..1 (1 bit)\n",
    "    :return: List of 5 bytes [cycle1..cycle5].\n",
    "    \"\"\"\n",
    "\n",
    "    # ---------------------\n",
    "    # Cycle 1 => lower 8 bits of column\n",
    "    # Cycle 2 => upper 8 bits of column\n",
    "    # ---------------------\n",
    "    c1 = column & 0xFF\n",
    "    c2 = (column >> 8) & 0xFF\n",
    "    \n",
    "    # ---------------------\n",
    "    # Cycle 3 => lower 8 bits of page: page[7..0]\n",
    "    # ---------------------\n",
    "    c3 = page & 0xFF\n",
    "    \n",
    "    # ---------------------\n",
    "    # Cycle 4 => c4[7..0]:\n",
    "    #   bits[7..4] -> block[3..0] \n",
    "    #   bits[3..2] -> plane[1..0]\n",
    "    #   bits[1..0] -> page[9..8]\n",
    "    # ---------------------\n",
    "    c4 = 0\n",
    "    # block[3..0] => lower 4 bits of block\n",
    "    c4 |= (block & 0xF) << 4\n",
    "    # plane => 2 bits in [3..2]\n",
    "    c4 |= (plane & 0x3) << 2\n",
    "    # top 2 bits of page => page[9..8]\n",
    "    c4 |= (page >> 8) & 0x3\n",
    "    \n",
    "    \n",
    "    # ---------------------\n",
    "    # Cycle 5 => c5[7..0]:\n",
    "    #   bits[5..0] -> block[9..4]\n",
    "    #   bit [6]    -> lun\n",
    "    #   bit [7]    -> 0\n",
    "    # ---------------------\n",
    "    c5 = 0\n",
    "    # block[9..4] => 6 bits\n",
    "    c5 |= ((block >> 4) & 0x3F)\n",
    "    # lun => bit [6]\n",
    "    c5 |= ((lun & 0x1) << 6)\n",
    "    \n",
    "    return [c1, c2, c3, c4, c5]"
   ]
  },
  {
   "cell_type": "code",
   "execution_count": 3,
   "id": "e761f40a",
   "metadata": {},
   "outputs": [],
   "source": [
    "def build_3_cycle_address(page: int, block: int, plane: int, lun: int) -> list[int]:\n",
    "    \n",
    "    # ---------------------\n",
    "    # Cycle 1 => lower 8 bits of page: page[7..0]\n",
    "    # ---------------------\n",
    "    c1 = page & 0xFF\n",
    "    \n",
    "    # ---------------------\n",
    "    # Cycle 2 => c4[7..0]:\n",
    "    #   bits[7..4] -> block[3..0] \n",
    "    #   bits[3..2] -> plane[1..0]\n",
    "    #   bits[1..0] -> page[9..8]\n",
    "    # ---------------------\n",
    "    c2 = 0\n",
    "    # block[3..0] => lower 4 bits of block\n",
    "    c2 |= (block & 0xF) << 4\n",
    "    # plane => 2 bits in [3..2]\n",
    "    c2 |= (plane & 0x3) << 2\n",
    "    # top 2 bits of page => page[9..8]\n",
    "    c2 |= (page >> 8) & 0x3\n",
    "    \n",
    "    \n",
    "    # ---------------------\n",
    "    # Cycle 3 => c5[7..0]:\n",
    "    #   bits[5..0] -> block[9..4]\n",
    "    #   bit [6]    -> lun\n",
    "    #   bit [7]    -> 0\n",
    "    # ---------------------\n",
    "    c3 = 0\n",
    "    # block[9..4] => 6 bits\n",
    "    c3 |= ((block >> 4) & 0x3F)\n",
    "    # lun => bit [6]\n",
    "    c3 |= ((lun & 0x1) << 6)\n",
    "    \n",
    "    return [c1, c2, c3]"
   ]
  },
  {
   "cell_type": "markdown",
   "id": "bfce5999",
   "metadata": {},
   "source": [
    "## Commands for Nand Flash and FTDI"
   ]
  },
  {
   "cell_type": "code",
   "execution_count": 4,
   "id": "5096f7e3-151d-4e1e-b0b0-8f22aad289b4",
   "metadata": {},
   "outputs": [],
   "source": [
    "#FTDI Commands\n",
    "ACTIVATE_COMMNAD_LATCH = 0x40\n",
    "ACTIVATE_ADDRESS_LATCH = 0x80\n",
    "ACTIVATE_WRITE_PROTECT = 0x20\n",
    "DEACTIVATE_CA_LATCH = 0x00\n",
    "\n",
    "#Nand Flash Commands\n",
    "NAND_CMD_READ_CYCLE1 = 0x00\n",
    "NAND_CMD_READ_CYCLE2 = 0x30\n",
    "\n",
    "NAND_CMD_PROGRAM_CYCLE1 = 0x80\n",
    "NAND_CMD_PROGRAM_CYCLE2 = 0x10\n",
    "\n",
    "NAND_CMD_BLOCK_ERASE_CYCLE1 = 0x60\n",
    "NAND_CMD_BLOCK_ERASE_CYCLE2 = 0xD0\n",
    "\n",
    "NAND_CMD_RESET = 0xFF\n",
    "NAND_CMD_READ_STATUS = 0x70\n",
    "\n",
    "WR_ADDRESS_CYCLE = 5\n",
    "ERASE_ADDRESS_CYCLE = 3"
   ]
  },
  {
   "cell_type": "markdown",
   "id": "78c88520",
   "metadata": {},
   "source": [
    "## Nand Read Page Functions"
   ]
  },
  {
   "cell_type": "code",
   "execution_count": 5,
   "id": "531e2653",
   "metadata": {},
   "outputs": [],
   "source": [
    "def read_nand_command (cycle):\n",
    "    #Command Cycle 1\n",
    "    cmds1 = [Ftdi.WRITE_EXTENDED, ACTIVATE_COMMNAD_LATCH, 0] \n",
    "    cmds1 += [NAND_CMD_READ_CYCLE1]\n",
    "    ftdi.write_data(Array('B', cmds1))\n",
    "    \n",
    "    #Address Cycle 5 Consequtive\n",
    "    cmds2 = [Ftdi.WRITE_EXTENDED, ACTIVATE_ADDRESS_LATCH, 0 , cycle[0]]\n",
    "    for i in range(1,WR_ADDRESS_CYCLE,1):\n",
    "        cmds2 += [Ftdi.WRITE_SHORT, 0, cycle[i]]\n",
    "    ftdi.write_data(Array('B', cmds2))\n",
    "    \n",
    "    #Command Cycle 2\n",
    "    cmds3 = [Ftdi.WRITE_EXTENDED, ACTIVATE_COMMNAD_LATCH, 0]\n",
    "    cmds3 += [NAND_CMD_READ_CYCLE2]\n",
    "    ftdi.write_data(Array('B', cmds3))\n",
    "    \n",
    "    \n",
    "    #print(f\"Command 1:  {cmds1}\")\n",
    "    #print(f\"Command 2:  {cmds2}\")\n",
    "    #print(f\"Command 3:  {cmds3}\")"
   ]
  },
  {
   "cell_type": "code",
   "execution_count": 6,
   "id": "ffc04f78-ddd7-43ec-b056-a5203d358767",
   "metadata": {},
   "outputs": [],
   "source": [
    "def read_nand_page_bytes(read_len):\n",
    "    cmds = []\n",
    "    \n",
    "    #Data Read Cycle\n",
    "    cmds += [ftdi.READ_EXTENDED, DEACTIVATE_CA_LATCH , 0]\n",
    "    \n",
    "    for i in range(1, read_len, 1):\n",
    "        cmds += [Ftdi.READ_SHORT, 0]\n",
    "        \n",
    "    cmds.append(Ftdi.SEND_IMMEDIATE)\n",
    "    ftdi.write_data(Array('B', cmds))\n",
    "    data = ftdi.read_data_bytes(read_len)\n",
    "    return bytes(data)"
   ]
  },
  {
   "cell_type": "markdown",
   "id": "524513ec",
   "metadata": {},
   "source": [
    "## NAND Write Page Functions"
   ]
  },
  {
   "cell_type": "code",
   "execution_count": 7,
   "id": "54251a49",
   "metadata": {},
   "outputs": [],
   "source": [
    "def program_nand_page(cycle, data):\n",
    "    #Command Cycle 1\n",
    "    activateCMD = ACTIVATE_WRITE_PROTECT | ACTIVATE_COMMNAD_LATCH\n",
    "    cmds1 = [Ftdi.WRITE_EXTENDED, activateCMD, 0] \n",
    "    cmds1 += [NAND_CMD_PROGRAM_CYCLE1]\n",
    "    \n",
    "    #Address Cycle 5 Consequtive\n",
    "    activateADR = ACTIVATE_WRITE_PROTECT | ACTIVATE_ADDRESS_LATCH\n",
    "    cmds2 = [Ftdi.WRITE_EXTENDED, activateADR, 0 , cycle[0]]\n",
    "    for i in range(1,WR_ADDRESS_CYCLE,1):\n",
    "        cmds2 += [Ftdi.WRITE_SHORT, 0, cycle[i]]\n",
    "    \n",
    "    #data cycle \n",
    "    activateDTC = ACTIVATE_WRITE_PROTECT | DEACTIVATE_CA_LATCH\n",
    "    cmds3 = [Ftdi.WRITE_EXTENDED, activateDTC , 0, data[0]]\n",
    "    for i in range(1,len(data),1):\n",
    "        cmds3 += [Ftdi.WRITE_SHORT, 0, data[i]]\n",
    "    \n",
    "    #Command Cycle 2\n",
    "    activateCMD = ACTIVATE_WRITE_PROTECT | ACTIVATE_COMMNAD_LATCH\n",
    "    cmds4 = [Ftdi.WRITE_EXTENDED, activateCMD, 0]\n",
    "    cmds4 += [NAND_CMD_PROGRAM_CYCLE2]\n",
    "    \n",
    "    #print(f\"Command 1:  {cmds1}\")\n",
    "    #print(f\"Command 2:  {cmds2}\")\n",
    "    #print(f\"Command 3:  {cmds3}\")\n",
    "    #print(f\"Command 4:  {cmds4}\")\n",
    "    \n",
    "    ftdi.write_data(Array('B', cmds1))\n",
    "    time.sleep(0.01)\n",
    "    ftdi.write_data(Array('B', cmds2))\n",
    "    time.sleep(0.01)\n",
    "    ftdi.write_data(Array('B', cmds3))\n",
    "    time.sleep(0.01)\n",
    "    ftdi.write_data(Array('B', cmds4))\n",
    "    time.sleep(0.01)"
   ]
  },
  {
   "cell_type": "code",
   "execution_count": 8,
   "id": "6be16889",
   "metadata": {},
   "outputs": [],
   "source": [
    "def status_register_check():\n",
    "    #Staus Cycle\n",
    "    cmds1 = [Ftdi.WRITE_EXTENDED, ACTIVATE_COMMNAD_LATCH, 0]\n",
    "    cmds1 += [NAND_CMD_READ_STATUS]\n",
    "    ftdi.write_data(Array('B', cmds1))\n",
    "    #print(f\"Command 5:  {cmds1}\")\n",
    "        \n",
    "    cmds1 = [ftdi.READ_EXTENDED, DEACTIVATE_CA_LATCH , 0]\n",
    "    cmds1 += [Ftdi.READ_SHORT, 0]\n",
    "        \n",
    "    cmds1.append(Ftdi.SEND_IMMEDIATE)\n",
    "    ftdi.write_data(Array('B', cmds1))\n",
    "    \n",
    "    status = ftdi.read_data_bytes(1)\n",
    "    state = ord(status)\n",
    "    \n",
    "    print(f\"Status:{state:08b}\")\n",
    "    if state == 96:\n",
    "        print(\"Successfully Done!!\")\n",
    "    else:\n",
    "        print(\"failed, check the status byte\")"
   ]
  },
  {
   "cell_type": "code",
   "execution_count": 9,
   "id": "ba335fe8",
   "metadata": {},
   "outputs": [],
   "source": [
    "def createDataStream(sizeDataArray):\n",
    "    dataStream = []\n",
    "    data = 0\n",
    "    for i in range(0, sizeDataArray, 1):\n",
    "        data += 1\n",
    "        dataStream.append(data)\n",
    "        if (data >= 8):\n",
    "            data = 0\n",
    "    print(len(dataStream))\n",
    "    return dataStream"
   ]
  },
  {
   "cell_type": "code",
   "execution_count": 10,
   "id": "8eb2a929",
   "metadata": {},
   "outputs": [],
   "source": [
    "def createDataStreamZeros(sizeZerosArray):\n",
    "    dataStream = []\n",
    "    for i in range(0, sizeZerosArray, 1):\n",
    "        dataStream.append(0)\n",
    "    #print(len(dataStream))\n",
    "    #print(dataStream)\n",
    "    return dataStream"
   ]
  },
  {
   "cell_type": "code",
   "execution_count": 11,
   "id": "13155dfa",
   "metadata": {
    "scrolled": true
   },
   "outputs": [],
   "source": [
    "def createCharacterStream(sizechrArray):\n",
    "    chrStream = \"\"\n",
    "    data = 0\n",
    "    for i in range(0, sizechrArray, 1):\n",
    "        data = \"A\"\n",
    "        chrStream += data\n",
    "    print(len(chrStream))\n",
    "    print(chrStream)\n",
    "    return chrStream"
   ]
  },
  {
   "cell_type": "markdown",
   "id": "de4f665e",
   "metadata": {},
   "source": [
    "## NAND Erase Block Functions"
   ]
  },
  {
   "cell_type": "code",
   "execution_count": 12,
   "id": "cad11f3a",
   "metadata": {},
   "outputs": [],
   "source": [
    "def erase_nand_block (cycle):\n",
    "    #Command Cycle 1\n",
    "    activateCMD = ACTIVATE_WRITE_PROTECT | ACTIVATE_COMMNAD_LATCH\n",
    "    cmds1 = [Ftdi.WRITE_EXTENDED, activateCMD, 0] \n",
    "    cmds1 += [NAND_CMD_BLOCK_ERASE_CYCLE1]\n",
    "    \n",
    "    #Address Cycle 3 Consequtive\n",
    "    activateADR = ACTIVATE_WRITE_PROTECT | ACTIVATE_ADDRESS_LATCH\n",
    "    cmds2 = [Ftdi.WRITE_EXTENDED, activateADR, 0 , cycle[0]]\n",
    "    for i in range(1,ERASE_ADDRESS_CYCLE,1):\n",
    "        cmds2 += [Ftdi.WRITE_SHORT, 0, cycle[i]]\n",
    "    \n",
    "    #Command Cycle 2\n",
    "    activateCMD = ACTIVATE_WRITE_PROTECT | ACTIVATE_COMMNAD_LATCH\n",
    "    cmds3 = [Ftdi.WRITE_EXTENDED, activateCMD, 0]\n",
    "    cmds3 += [NAND_CMD_BLOCK_ERASE_CYCLE2]\n",
    "    \n",
    "    print(f\"Command 1:  {cmds1}\")\n",
    "    print(f\"Command 2:  {cmds2}\")\n",
    "    print(f\"Command 4:  {cmds3}\")\n",
    "    \n",
    "    ftdi.write_data(Array('B', cmds1))\n",
    "    ftdi.write_data(Array('B', cmds2))\n",
    "    ftdi.write_data(Array('B', cmds3))\n",
    "    time.sleep(1)"
   ]
  },
  {
   "cell_type": "markdown",
   "id": "0ed11f4f",
   "metadata": {},
   "source": [
    "## FTDI Initialization"
   ]
  },
  {
   "cell_type": "code",
   "execution_count": 13,
   "id": "fdf43c8c-0e36-4bbb-9718-cb67eb503912",
   "metadata": {},
   "outputs": [],
   "source": [
    "#essential functions\n",
    "import usb.core\n",
    "import usb.util\n",
    "import time\n",
    "from array import array as Array\n",
    "from pyftdi.ftdi import *"
   ]
  },
  {
   "cell_type": "code",
   "execution_count": 14,
   "id": "b7f862c0-5a9a-4240-98f3-24d1e181febe",
   "metadata": {},
   "outputs": [
    {
     "name": "stdout",
     "output_type": "stream",
     "text": [
      "[147, 64, 0, 255]\n"
     ]
    },
    {
     "data": {
      "text/plain": [
       "4"
      ]
     },
     "execution_count": 14,
     "metadata": {},
     "output_type": "execute_result"
    }
   ],
   "source": [
    "#essential functions\n",
    "VENDOR_ID = 0x0403\n",
    "PRODUCT_ID = 0x6010\n",
    "\n",
    "# direction_mask: 1 means output, 0 means input\n",
    "# value_mask:     1 sets the pin high, 0 sets it low\n",
    "DIRECTION_MASK = 0xFF  # all upper 8 bits as output\n",
    "VALUE_MASK = 0x00     # pattern to set the pins to\n",
    "\n",
    "# Initialize FTDI\n",
    "#Creates an instance or object of the Ftdi class and stored in the ftdi variable\n",
    "ftdi = Ftdi()\n",
    "\n",
    "#Open a new interface to the specified FTDI device.\n",
    "#open() method establishes a connection to a specific FTDI device.\n",
    "ftdi.open(VENDOR_ID, PRODUCT_ID, interface=1)\n",
    "\n",
    "#Configures the FTDI device into MCU Host Bus Emulation mode\n",
    "ftdi.set_bitmode(0x00, Ftdi.BitMode.MCU)  # MCU = 0x08 (MCU Host Bus Emulation mode)\n",
    "\n",
    "#Disable the “divide-by-5” clock prescaler allows higher frequency operation\n",
    "ftdi.write_data(Array('B', [Ftdi.DISABLE_CLK_DIV5]))\n",
    "\n",
    "#the FTDI device waits (in milliseconds) \n",
    "#before sending any partially filled USB packet up to the host if the buffer is not yet full.\n",
    "ftdi.set_latency_timer(2)\n",
    "\n",
    "\n",
    "# This tells the FTDI chip to set upper 8 bits with these direction and value settings\n",
    "ftdi.write_data(bytes([\n",
    "    Ftdi.SET_BITS_HIGH,\n",
    "    VALUE_MASK,\n",
    "    DIRECTION_MASK\n",
    "]))\n",
    "\n",
    "#Any pending outbound data in the transmit buffer is cleared\n",
    "ftdi.purge_buffers()\n",
    "\n",
    "#Reset the the nand flash chip\n",
    "cmdsRST = [Ftdi.WRITE_EXTENDED, ACTIVATE_COMMNAD_LATCH, 0, NAND_CMD_RESET]\n",
    "print (cmdsRST)\n",
    "ftdi.write_data(Array('B', cmdsRST))"
   ]
  },
  {
   "cell_type": "markdown",
   "id": "fe3e157c",
   "metadata": {},
   "source": [
    "# MAIN CODE: Read, Write, Erase Operations of Nand Flash Memory"
   ]
  },
  {
   "cell_type": "markdown",
   "id": "77673199",
   "metadata": {},
   "source": [
    "## Read Page Byte by Byte"
   ]
  },
  {
   "cell_type": "code",
   "execution_count": 21,
   "id": "0ac26bd9",
   "metadata": {},
   "outputs": [
    {
     "name": "stdout",
     "output_type": "stream",
     "text": [
      "Address 121 => Page 121, Block 0, Plane 0\n"
     ]
    }
   ],
   "source": [
    "#convert linear page address\n",
    "linearPageAddress = 121\n",
    "pagesPerBlock = 1024\n",
    "NumberOfPlane = 4\n",
    "\n",
    "pageX, blockX, planeX = decode_page_address(linearPageAddress, pagesPerBlock, NumberOfPlane)\n",
    "\n",
    "print(f\"Address {linearPageAddress} => Page {pageX}, Block {blockX}, Plane {planeX}\")"
   ]
  },
  {
   "cell_type": "code",
   "execution_count": 22,
   "id": "357cf0f7",
   "metadata": {},
   "outputs": [
    {
     "name": "stdout",
     "output_type": "stream",
     "text": [
      "Address Cycles: [0, 0, 121, 0, 0]\n",
      "5 Address Cycles:\n",
      " Cycle 1: 0x00  (bin: 00000000)\n",
      " Cycle 2: 0x00  (bin: 00000000)\n",
      " Cycle 3: 0x79  (bin: 01111001)\n",
      " Cycle 4: 0x00  (bin: 00000000)\n",
      " Cycle 5: 0x00  (bin: 00000000)\n"
     ]
    }
   ],
   "source": [
    "#create address cycle\n",
    "column = 0\n",
    "page   = pageX\n",
    "block  = blockX\n",
    "plane  = planeX\n",
    "lun    = 0\n",
    "\n",
    "#create 5 address cycle\n",
    "cycles = build_5_cycle_address(column, page, block, plane, lun)\n",
    "print(f\"Address Cycles: {cycles}\")\n",
    "\n",
    "print(\"5 Address Cycles:\")\n",
    "for i, val in enumerate(cycles, start=1):\n",
    "    print(f\" Cycle {i}: 0x{val:02X}  (bin: {val:08b})\")\n"
   ]
  },
  {
   "cell_type": "code",
   "execution_count": 23,
   "id": "ac25b9b8",
   "metadata": {
    "scrolled": true
   },
   "outputs": [
    {
     "data": {
      "text/plain": [
       "b'\\xff\\xff\\xff\\xff\\xff\\xff\\xff\\xff\\xff\\xff\\xff\\xff\\xff\\xff\\xff\\xff\\xff\\xff\\xff\\xff\\xff\\xff\\xff\\xff\\xff\\xff\\xff\\xff\\xff\\xff\\xff\\xff\\xff\\xff\\xff\\xff\\xff\\xff\\xff\\xff\\xff\\xff\\xff\\xff\\xff\\xff\\xff\\xff\\xff\\xff\\xff\\xff\\xff\\xff\\xff\\xff\\xff\\xff\\xff\\xff\\xff\\xff\\xff\\xff\\xff\\xff\\xff\\xff\\xff\\xff\\xff\\xff\\xff\\xff\\xff\\xff\\xff\\xff\\xff\\xff\\xff\\xff\\xff\\xff\\xff\\xff\\xff\\xff\\xff\\xff\\xff\\xff\\xff\\xff\\xff\\xff\\xff\\xff\\xff\\xff\\xff\\xff\\xff\\xff\\xff\\xff\\xff\\xff\\xff\\xff\\xff\\xff\\xff\\xff\\xff\\xff\\xff\\xff\\xff\\xff\\xff\\xff\\xff\\xff\\xff\\xff\\xff\\xff\\xff\\xff\\xff\\xff\\xff\\xff\\xff\\xff\\xff\\xff\\xff\\xff\\xff\\xff\\xff\\xff\\xff\\xff\\xff\\xff\\xff\\xff\\xff\\xff\\xff\\xff\\xff\\xff\\xff\\xff\\xff\\xff\\xff\\xff\\xff\\xff\\xff\\xff\\xff\\xff\\xff\\xff\\xff\\xff\\xff\\xff\\xff\\xff\\xff\\xff\\xff\\xff\\xff\\xff\\xff\\xff\\xff\\xff\\xff\\xff\\xff\\xff\\xff\\xff\\xff\\xff\\xff\\xff\\xff\\xff\\xff\\xff\\xff\\xff\\xff\\xff\\xff\\xff\\xff\\xff\\xff\\xff\\xff\\xff\\xff\\xff\\xff\\xff\\xff\\xff\\xff\\xff\\xff\\xff\\xff\\xff\\xff\\xff\\xff\\xff\\xff\\xff\\xff\\xff\\xff\\xff\\xff\\xff\\xff\\xff\\xff\\xff\\xff\\xff\\xff\\xff\\xff\\xff\\xff\\xff\\xff\\xff\\xff\\xff\\xff\\xff\\xff\\xff\\xff\\xff\\xff\\xff\\xff\\xff\\xff\\xff\\xff\\xff\\xff\\xff\\xff\\xff\\xff\\xff\\xff\\xff\\xff\\xff\\xff\\xff\\xff\\xff\\xff\\xff\\xff\\xff\\xff\\xff\\xff\\xff\\xff\\xff\\xff\\xff\\xff\\xff\\xff\\xff\\xff\\xff\\xff\\xff\\xff\\xff\\xff\\xff\\xff\\xff\\xff\\xff\\xff\\xff\\xff\\xff\\xff\\xff\\xff\\xff\\xff\\xff\\xff\\xff\\xff\\xff\\xff\\xff\\xff\\xff\\xff\\xff\\xff\\xff\\xff\\xff\\xff\\xff\\xff\\xff\\xff\\xff\\xff\\xff\\xff\\xff\\xff\\xff\\xff\\xff\\xff\\xff\\xff\\xff\\xff\\xff\\xff\\xff\\xff\\xff\\xff\\xff\\xff\\xff\\xff\\xff\\xff\\xff\\xff\\xff\\xff\\xff\\xff\\xff\\xff\\xff\\xff\\xff\\xff\\xff\\xff\\xff\\xff\\xff\\xff\\xff\\xff\\xff\\xff\\xff\\xff\\xff\\xff\\xff\\xff\\xff\\xff\\xff\\xff\\xff\\xff\\xff\\xff\\xff\\xff\\xff\\xff\\xff\\xff\\xff\\xff\\xff\\xff\\xff\\xff\\xff\\xff\\xff\\xff\\xff\\xff\\xff\\xff\\xff\\xff\\xff\\xff\\xff\\xff\\xff\\xff\\xff\\xff\\xff\\xff\\xff\\xff\\xff\\xff\\xff\\xff\\xff\\xff\\xff\\xff\\xff\\xff\\xff\\xff\\xff\\xff\\xff\\xff\\xff\\xff\\xff\\xff\\xff\\xff\\xff\\xff\\xff\\xff\\xff\\xff\\xff\\xff\\xff\\xff\\xff\\xff\\xff\\xff\\xff\\xff\\xff\\xff\\xff\\xff\\xff\\xff\\xff\\xff\\xff\\xff\\xff\\xff\\xff\\xff\\xff\\xff\\xff\\xff\\xff\\xff\\xff\\xff\\xff\\xff\\xff\\xff\\xff\\xff\\xff\\xff\\xff\\xff\\xff\\xff\\xff\\xff\\xff\\xff\\xff\\xff\\xff\\xff\\xff\\xff\\xff\\xff\\xff\\xff\\xff\\xff\\xff\\xff\\xff\\xff\\xff\\xff\\xff\\xff\\xff\\xff\\xff\\xff\\xff\\xff\\xff\\xff\\xff\\xff\\xff\\xff\\xff\\xff\\xff\\xff\\xff\\xff\\xff\\xff\\xff\\xff\\xff\\xff\\xff\\xff\\xff\\xff\\xff\\xff\\xff\\xff\\xff\\xff\\xff\\xff\\xff\\xff\\xff\\xff\\xff\\xff\\xff\\xff\\xff\\xff\\xff\\xff\\xff\\xff\\xff\\xff\\xff\\xff\\xff\\xff\\xff\\xff\\xff\\xff\\xff\\xff\\xff\\xff\\xff\\xff\\xff\\xff\\xff\\xff\\xff\\xff\\xff\\xff\\xff\\xff\\xff\\xff\\xff\\xff\\xff\\xff\\xff\\xff\\xff\\xff\\xff\\xff\\xff\\xff\\xff\\xff\\xff\\xff\\xff\\xff\\xff\\xff\\xff\\xff\\xff\\xff\\xff\\xff\\xff\\xff\\xff\\xff\\xff\\xff\\xff\\xff\\xff\\xff\\xff\\xff\\xff\\xff\\xff\\xff\\xff\\xff\\xff\\xff\\xff\\xff\\xff\\xff\\xff\\xff\\xff\\xff\\xff\\xff\\xff\\xff\\xff\\xff\\xff\\xff\\xff\\xff\\xff\\xff\\xff\\xff\\xff\\xff\\xff\\xff\\xff\\xff\\xff\\xff\\xff\\xff\\xff\\xff\\xff\\xff\\xff\\xff\\xff\\xff\\xff\\xff\\xff\\xff\\xff\\xff\\xff\\xff\\xff\\xff\\xff\\xff\\xff\\xff\\xff\\xff\\xff\\xff\\xff\\xff\\xff\\xff\\xff\\xff\\xff\\xff\\xff\\xff\\xff\\xff\\xff\\xff\\xff\\xff\\xff\\xff\\xff\\xff\\xff\\xff\\xff\\xff\\xff\\xff\\xff\\xff\\xff\\xff\\xff\\xff\\xff\\xff\\xff\\xff\\xff\\xff\\xff\\xff\\xff\\xff\\xff\\xff\\xff\\xff\\xff\\xff\\xff\\xff\\xff\\xff\\xff\\xff\\xff\\xff\\xff\\xff\\xff\\xff\\xff\\xff\\xff\\xff\\xff\\xff\\xff\\xff\\xff\\xff\\xff\\xff\\xff\\xff\\xff\\xff\\xff\\xff\\xff\\xff\\xff\\xff\\xff\\xff\\xff\\xff\\xff\\xff\\xff\\xff\\xff\\xff\\xff\\xff\\xff\\xff\\xff\\xff\\xff\\xff\\xff\\xff\\xff\\xff\\xff\\xff\\xff\\xff\\xff\\xff\\xff\\xff\\xff\\xff\\xff\\xff\\xff\\xff\\xff\\xff\\xff\\xff\\xff\\xff\\xff\\xff\\xff\\xff\\xff\\xff\\xff\\xff\\xff\\xff\\xff\\xff\\xff\\xff\\xff\\xff\\xff\\xff\\xff\\xff\\xff\\xff\\xff\\xff\\xff\\xff\\xff\\xff\\xff\\xff\\xff\\xff\\xff\\xff\\xff\\xff\\xff\\xff\\xff\\xff\\xff\\xff\\xff\\xff\\xff\\xff\\xff\\xff\\xff\\xff\\xff\\xff\\xff\\xff\\xff\\xff\\xff\\xff\\xff\\xff\\xff\\xff\\xff\\xff\\xff\\xff\\xff\\xff\\xff\\xff\\xff\\xff\\xff\\xff\\xff\\xff\\xff\\xff\\xff\\xff\\xff\\xff\\xff\\xff\\xff\\xff\\xff\\xff\\xff\\xff\\xff\\xff\\xff\\xff\\xff\\xff\\xff\\xff\\xff\\xff\\xff\\xff\\xff\\xff\\xff\\xff\\xff\\xff\\xff\\xff\\xff\\xff\\xff\\xff\\xff\\xff\\xff\\xff\\xff\\xff\\xff\\xff\\xff\\xff\\xff\\xff\\xff\\xff\\xff\\xff\\xff\\xff\\xff\\xff\\xff\\xff\\xff\\xff\\xff\\xff\\xff\\xff\\xff\\xff\\xff\\xff\\xff\\xff\\xff\\xff\\xff\\xff\\xff\\xff\\xff\\xff\\xff\\xff\\xff\\xff\\xff\\xff\\xff\\xff\\xff'"
      ]
     },
     "execution_count": 23,
     "metadata": {},
     "output_type": "execute_result"
    }
   ],
   "source": [
    "byteLength = 1000\n",
    "\n",
    "#Send the command and address cycles before page read\n",
    "read_nand_command(cycles)\n",
    "\n",
    "#Read byte by byte from Data Register\n",
    "read_nand_page_bytes(byteLength)"
   ]
  },
  {
   "cell_type": "markdown",
   "id": "d3e0b1f3",
   "metadata": {},
   "source": [
    "## Program Pages in a Block"
   ]
  },
  {
   "cell_type": "code",
   "execution_count": 24,
   "id": "6bd27e50",
   "metadata": {},
   "outputs": [],
   "source": [
    "linearPageAddress = 121\n",
    "pagesPerBlock = 1024\n",
    "NumberOfPlane = 4\n",
    "\n",
    "pageX, blockX, planeX = decode_page_address(linearPageAddress, pagesPerBlock, NumberOfPlane)\n",
    "addressCycleStream = build_5_cycle_address(0, pageX, blockX, planeX, 0)"
   ]
  },
  {
   "cell_type": "code",
   "execution_count": 25,
   "id": "b8249482",
   "metadata": {},
   "outputs": [
    {
     "name": "stdout",
     "output_type": "stream",
     "text": [
      "16384\n",
      "Status:01100000\n",
      "Successfully Done!!\n"
     ]
    }
   ],
   "source": [
    "pageBytes = 16384\n",
    "data = createDataStream(pageBytes)\n",
    "\n",
    "program_nand_page (addressCycleStream, data)\n",
    "\n",
    "status_register_check()"
   ]
  },
  {
   "cell_type": "code",
   "execution_count": 26,
   "id": "0bba7472",
   "metadata": {},
   "outputs": [
    {
     "data": {
      "text/plain": [
       "b'\\x01\\x02\\x03\\x04\\x05\\x06\\x07\\x08\\x01\\x02\\x03\\x04\\x05\\x06\\x07\\x08\\x01\\x02\\x03\\x04\\x05\\x06\\x07\\x08\\x01\\x02\\x03\\x04\\x05\\x06\\x07\\x08\\x01\\x02\\x03\\x04\\x05\\x06\\x07\\x08\\x01\\x02\\x03\\x04\\x05\\x06\\x07\\x08\\x01\\x02\\x03\\x04\\x05\\x06\\x07\\x08\\x01\\x02\\x03\\x04\\x05\\x06\\x07\\x08\\x01\\x02\\x03\\x04\\x05\\x06\\x07\\x08\\x01\\x02\\x03\\x04\\x05\\x06\\x07\\x08\\x01\\x02\\x03\\x04\\x05\\x06\\x07\\x08\\x01\\x02\\x03\\x04\\x05\\x06\\x07\\x08\\x01\\x02\\x03\\x04'"
      ]
     },
     "execution_count": 26,
     "metadata": {},
     "output_type": "execute_result"
    }
   ],
   "source": [
    "ftdi.purge_buffers()\n",
    "read_nand_command(addressCycleStream)\n",
    "read_nand_page_bytes(100)"
   ]
  },
  {
   "cell_type": "markdown",
   "id": "3fb85c9a",
   "metadata": {},
   "source": [
    "## Erase a Block"
   ]
  },
  {
   "cell_type": "code",
   "execution_count": 54,
   "id": "c0a11776",
   "metadata": {},
   "outputs": [
    {
     "name": "stdout",
     "output_type": "stream",
     "text": [
      "Address 121 => Page 121, Block 0, Plane 0\n",
      "3 Address Cycles:\n",
      " Cycle 1: 0x79  (bin: 01111001)\n",
      " Cycle 2: 0x00  (bin: 00000000)\n",
      " Cycle 3: 0x00  (bin: 00000000)\n"
     ]
    }
   ],
   "source": [
    "linearPageAddress = 121\n",
    "pagesPerBlock = 1024\n",
    "NumberOfPlane = 4\n",
    "\n",
    "pageX, blockX, planeX = decode_page_address(linearPageAddress, pagesPerBlock, NumberOfPlane)\n",
    "print(f\"Address {linearPageAddress} => Page {pageX}, Block {blockX}, Plane {planeX}\")\n",
    "\n",
    "blockEraseAddress = build_3_cycle_address(pageX, blockX, planeX, 0)\n",
    "\n",
    "print(\"3 Address Cycles:\")\n",
    "for i, val in enumerate(blockEraseAddress, start=1):\n",
    "    print(f\" Cycle {i}: 0x{val:02X}  (bin: {val:08b})\")"
   ]
  },
  {
   "cell_type": "code",
   "execution_count": 56,
   "id": "dc05d0df",
   "metadata": {},
   "outputs": [
    {
     "name": "stdout",
     "output_type": "stream",
     "text": [
      "Command 1:  [147, 96, 0, 96]\n",
      "Command 2:  [147, 160, 0, 121, 146, 0, 0, 146, 0, 0]\n",
      "Command 4:  [147, 96, 0, 208]\n",
      "Status:01100000\n",
      "Successfully Done!!\n"
     ]
    }
   ],
   "source": [
    "erase_nand_block (blockEraseAddress)\n",
    "\n",
    "status_register_check()"
   ]
  },
  {
   "cell_type": "code",
   "execution_count": 57,
   "id": "99bd39e4",
   "metadata": {},
   "outputs": [
    {
     "data": {
      "text/plain": [
       "b'\\xff\\xff\\xff\\xff\\xff\\xff\\xff\\xff\\xff\\xff\\xff\\xff\\xff\\xff\\xff\\xff\\xff\\xff\\xff\\xff\\xff\\xff\\xff\\xff\\xff\\xff\\xff\\xff\\xff\\xff\\xff\\xff\\xff\\xff\\xff\\xff\\xff\\xff\\xff\\xff\\xff\\xff\\xff\\xff\\xff\\xff\\xff\\xff\\xff\\xff\\xff\\xff\\xff\\xff\\xff\\xff\\xff\\xff\\xff\\xff\\xff\\xff\\xff\\xff\\xff\\xff\\xff\\xff\\xff\\xff\\xff\\xff\\xff\\xff\\xff\\xff\\xff\\xff\\xff\\xff\\xff\\xff\\xff\\xff\\xff\\xff\\xff\\xff\\xff\\xff\\xff\\xff\\xff\\xff\\xff\\xff\\xff\\xff\\xff\\xff'"
      ]
     },
     "execution_count": 57,
     "metadata": {},
     "output_type": "execute_result"
    }
   ],
   "source": [
    "ftdi.purge_buffers()\n",
    "read_nand_command(addressCycleStream)\n",
    "read_nand_page_bytes(100)"
   ]
  },
  {
   "cell_type": "code",
   "execution_count": null,
   "id": "88704183",
   "metadata": {},
   "outputs": [],
   "source": [
    "#ftdi.close();"
   ]
  },
  {
   "cell_type": "markdown",
   "id": "ca587373",
   "metadata": {},
   "source": [
    "## Program a block"
   ]
  },
  {
   "cell_type": "code",
   "execution_count": 30,
   "id": "58bd9112",
   "metadata": {},
   "outputs": [
    {
     "name": "stdout",
     "output_type": "stream",
     "text": [
      "Status:01100000\n",
      "Successfully Done!!\n"
     ]
    }
   ],
   "source": [
    "pagePerBlock = 1024\n",
    "pageno = 0\n",
    "blockno = 0\n",
    "planeno = 0\n",
    "pageBytes = 16384\n",
    "for i in range(0, pagePerBlock, 1):\n",
    "    pageno = i\n",
    "    addressCycleStream = build_5_cycle_address(0, pageno, blockno, planeno, 0)\n",
    "    data = createDataStreamZeros(pageBytes)\n",
    "    program_nand_page (addressCycleStream, data)\n",
    "status_register_check()"
   ]
  },
  {
   "cell_type": "code",
   "execution_count": 31,
   "id": "64ce0a9d",
   "metadata": {},
   "outputs": [],
   "source": [
    "def nand_read_full_page(pageno, blockno):\n",
    "    PagePerBlock = 1024\n",
    "    planeno = 0\n",
    "    pageBytes = 16384\n",
    "    max_rx_buffer = 4096\n",
    "    readData = []\n",
    "    ftdi.purge_buffers()\n",
    "\n",
    "    addressCycleStream = build_5_cycle_address(0, pageno, blockno, planeno, 0)\n",
    "    read_nand_command(addressCycleStream)\n",
    "\n",
    "    for i in range(0, pageBytes//max_rx_buffer, 1):\n",
    "        readData += read_nand_page_bytes(max_rx_buffer)\n",
    "    readData += read_nand_page_bytes(pageBytes%max_rx_buffer)\n",
    "\n",
    "    #Check the Programmed Page\n",
    "    #print(len(readData))\n",
    "    #print(type(readData))\n",
    "\n",
    "    #for i in range(1, 16384, 1):\n",
    "        #print(readData[i], end=\" \")\n",
    "\n",
    "    return readData"
   ]
  },
  {
   "cell_type": "code",
   "execution_count": null,
   "id": "cb7f11f6",
   "metadata": {},
   "outputs": [],
   "source": [
    "#nand_read_full_page(0, 0)"
   ]
  },
  {
   "cell_type": "markdown",
   "id": "28065cca",
   "metadata": {},
   "source": [
    "## Failure Bit Count: Programmed using All Zero Data"
   ]
  },
  {
   "cell_type": "code",
   "execution_count": 32,
   "id": "e42fcdff",
   "metadata": {},
   "outputs": [],
   "source": [
    "def count_failing_bits_in_page(page_data):\n",
    "    \"\"\"\n",
    "    Given a list of bytes (page_data), count the total number of bits that are 1.\n",
    "    \"\"\"\n",
    "    failing_bits = 0\n",
    "    for byte_val in page_data:\n",
    "        # Convert to binary string, then count how many '1' bits appear\n",
    "        failing_bits += bin(byte_val).count('1')\n",
    "    return failing_bits"
   ]
  },
  {
   "cell_type": "code",
   "execution_count": 33,
   "id": "39f68a57",
   "metadata": {},
   "outputs": [],
   "source": [
    "def count_fbc(start_page, end_page, byte_to_write, fd):\n",
    "    \"\"\"\n",
    "    Count the Failed Bit Count (FBC) from start_page to end_page\n",
    "    and write the results to the provided file descriptor (fd).\n",
    "    \"\"\"\n",
    "\n",
    "    page_per_block = 1024\n",
    "    current_block = start_page // page_per_block\n",
    "    fd.write(f\"Block = {current_block}\\n\")\n",
    "    pageFBC1 = []\n",
    "    pageFBC2 = []\n",
    "    pageFBC3 = []\n",
    "    pageFBC4 = []\n",
    "\n",
    "    block_fbc_count = 0\n",
    "    page_data = bytes()\n",
    "    # Read each page in the specified range\n",
    "    for page_index in range(start_page, end_page):\n",
    "        # Read data for the current page\n",
    "        page_data = nand_read_full_page(page_index, current_block)\n",
    "        \n",
    "        # Count non-zero bytes\n",
    "        page_fbc_count = count_failing_bits_in_page(page_data)\n",
    "        if (page_fbc_count == 1):\n",
    "            pageFBC1 += [ page_index ]\n",
    "        elif (page_fbc_count == 2):\n",
    "            pageFBC2 += [ page_index ]\n",
    "        elif (page_fbc_count == 3):\n",
    "            pageFBC3 += [ page_index ]\n",
    "        elif (page_fbc_count == 4):\n",
    "            pageFBC3 += [ page_index ]\n",
    "\n",
    "        # Write page-level FBC and raw data\n",
    "        fd.write(f\"Page = {page_index}, FBC = {page_fbc_count}, \")\n",
    "        fd.write(\",\".join(str(b) for b in page_data))\n",
    "        fd.write(\"\\n\")\n",
    "\n",
    "        block_fbc_count += page_fbc_count\n",
    "\n",
    "        # Check if we've crossed into a new block\n",
    "        new_block = page_index // page_per_block\n",
    "        if new_block != current_block:\n",
    "            # Reset for the new block\n",
    "            block_fbc_count = page_fbc_count\n",
    "            current_block = new_block\n",
    "    #print(len(page_data))\n",
    "    #print(page_data)\n",
    "    print(\"FBC Process Completed\")\n",
    "    print (\"FBC1:\", end=\" \")\n",
    "    print (pageFBC1)\n",
    "    print (\"FBC2:\", end=\" \")\n",
    "    print (pageFBC2)\n",
    "    print (\"FBC3:\", end=\" \")\n",
    "    print (pageFBC3)\n",
    "    print (\"FBC4:\", end=\" \")\n",
    "    print (pageFBC4)\n",
    "\n",
    "    return pageFBC1, pageFBC2, pageFBC3 ,pageFBC4 "
   ]
  },
  {
   "cell_type": "code",
   "execution_count": 36,
   "id": "2915c7c7",
   "metadata": {},
   "outputs": [
    {
     "name": "stdout",
     "output_type": "stream",
     "text": [
      "FBC Process Completed\n",
      "FBC1: [48, 49, 52, 54, 55, 64, 66, 68, 71, 78, 86, 90, 94, 95, 104, 112, 114, 116, 122, 124, 126, 130, 132, 134, 137, 140, 142, 148, 153, 156, 157, 159, 162, 172, 173, 174, 177, 179, 181, 185, 187, 189, 194, 200, 202, 210, 214, 216, 220, 224, 228, 230, 237, 250, 256, 270, 278, 289, 290, 291, 296, 298, 300, 302, 304, 308, 310, 312, 316, 322, 323, 324, 332, 334, 348, 350, 355, 358, 364, 383, 385, 390, 398, 415, 418, 424, 434, 435, 442, 444, 451, 452, 461, 474, 480, 481, 482, 490, 498, 502, 503, 506, 522, 528, 540, 542, 544, 546, 548, 555, 568, 570, 579, 586, 590, 600, 606, 614, 620, 622, 623, 628, 634, 650, 652, 660, 666, 682, 692, 694, 699, 712, 728, 729, 730, 742, 744, 754, 757, 760, 764, 770, 782, 792, 796, 799, 802, 804, 812, 814, 820, 824, 829, 830, 832, 850, 851, 854, 861, 865, 866, 868, 870, 893, 894, 904, 910, 916, 918, 920, 924, 930, 931, 932, 944, 946, 950, 951, 954, 964, 980, 992, 994, 995, 996, 1000, 1006, 1020]\n",
      "FBC2: [70, 72, 98, 110, 118, 136, 144, 154, 163, 184, 198, 204, 212, 232, 238, 248, 252, 328, 338, 340, 456, 466, 512, 602, 632, 642, 735, 762, 778, 780, 816, 826, 872, 874, 898, 936, 942, 956, 958, 962, 968, 972, 976, 978, 982, 984, 990, 1004]\n",
      "FBC3: [106, 108, 158, 196, 206, 222, 240, 242, 254, 626, 940, 952, 986, 1002]\n",
      "FBC4: []\n",
      "Done. Check 'CHECK_FBC_BITS_MLC_1.txt' for results.\n"
     ]
    }
   ],
   "source": [
    "# Specify your desired start and end pages\n",
    "start_page = 0\n",
    "end_page = 1024\n",
    "\n",
    "# This is just a dummy value for 'byte_to_write'—you can set this as needed\n",
    "byte_to_write = 0\n",
    "\n",
    "# Open a file for logging\n",
    "with open(\"CHECK_FBC_BITS_MLC_1.txt\", \"w\") as fd:\n",
    "    # Call the method, passing in your parameters and file descriptor\n",
    "    fbc1_pages, fbc2_pages, fbc3_pages, fbc4_pages = count_fbc(start_page, end_page, byte_to_write, fd)\n",
    "\n",
    "print(\"Done. Check 'CHECK_FBC_BITS_MLC_1.txt' for results.\")"
   ]
  },
  {
   "cell_type": "code",
   "execution_count": 38,
   "id": "78eeb55b",
   "metadata": {},
   "outputs": [
    {
     "data": {
      "image/png": "[encoded data removed]",
      "text/plain": [
       "<Figure size 1000x600 with 1 Axes>"
      ]
     },
     "metadata": {},
     "output_type": "display_data"
    }
   ],
   "source": [
    "import matplotlib.pyplot as plt\n",
    "\n",
    "# Dictionary of FBC -> [page indices]\n",
    "fbc_dict = {\n",
    "    1: fbc1_pages,\n",
    "    2: fbc2_pages,\n",
    "    3: fbc3_pages,\n",
    "    4: fbc4_pages,\n",
    "}\n",
    "\n",
    "plt.figure(figsize=(10, 6))\n",
    "\n",
    "# Plot each page with the corresponding FBC\n",
    "for fbc_value, pages in fbc_dict.items():\n",
    "    for page in pages:\n",
    "        marker_style = 'o' if page % 2 == 0 else 'o'\n",
    "        color = 'green' if page % 2 == 0 else 'red'\n",
    "        plt.scatter(page, fbc_value, c=color, marker=marker_style)\n",
    "\n",
    "# Create invisible points just for the legend\n",
    "#   - MSB => green 'o'\n",
    "#   - LSB => red 'o'\n",
    "plt.scatter([], [], c='green', marker='o', label='MSB')\n",
    "plt.scatter([], [], c='red', marker='o', label='LSB')\n",
    "\n",
    "plt.title(\"Failure Bit Count\")\n",
    "plt.xlabel(\"Page Number\")\n",
    "plt.ylabel(\"FBC Value\")\n",
    "plt.grid(True)\n",
    "plt.legend(loc='upper left')\n",
    "\n",
    "# Save the figure with high resolution (e.g., 300 dpi)\n",
    "plt.savefig(\"failure bit count.png\", dpi=300, bbox_inches='tight')\n",
    "\n",
    "# Display the plot\n",
    "plt.show()"
   ]
  },
  {
   "cell_type": "markdown",
   "id": "95aaceb0",
   "metadata": {},
   "source": [
    "## Failure Bit Count: Programmed using Random Data"
   ]
  },
  {
   "cell_type": "code",
   "execution_count": 43,
   "id": "cc712ec9",
   "metadata": {},
   "outputs": [],
   "source": [
    "import random\n",
    "\n",
    "def create_nand_random_file(filename, num_pages=1025, page_size=16384):\n",
    "    \"\"\"\n",
    "    Create a text file with random data mimicking a NAND flash structure.\n",
    "\n",
    "    :param filename: Output file name\n",
    "    :param num_pages: Number of pages to write (P0 through P(num_pages-1))\n",
    "    :param page_size: Number of random bytes (0-255) per page\n",
    "    \"\"\"\n",
    "    with open(filename, 'w') as f:\n",
    "        for page_idx in range(num_pages):\n",
    "            # Write page identifier\n",
    "            f.write(f\"P{page_idx} = \")\n",
    "            \n",
    "            # Generate random values for this page\n",
    "            random_values = [random.randint(0, 255) for _ in range(page_size)]\n",
    "            \n",
    "            # Convert list to comma-delimited string enclosed by brackets\n",
    "            page_data = \"[\" + \",\".join(map(str, random_values)) + \"]\"\n",
    "            \n",
    "            # Write data to file\n",
    "            f.write(page_data + \"\\n\\n\")  # Blank line after each page for readability\n"
   ]
  },
  {
   "cell_type": "code",
   "execution_count": 44,
   "id": "8ef41bb8",
   "metadata": {},
   "outputs": [],
   "source": [
    "create_nand_random_file(\"nand_random_data.txt\", num_pages=1024, page_size=16384)"
   ]
  },
  {
   "cell_type": "code",
   "execution_count": 45,
   "id": "f083f8b7",
   "metadata": {},
   "outputs": [],
   "source": [
    "def read_random_values(filename):\n",
    "    \"\"\"\n",
    "    Reads random data from a file containing lines in the format:\n",
    "        P0 = [val1,val2,val3,...]\n",
    "        P1 = [val1,val2,val3,...]\n",
    "    Returns a list of lists (each sub-list is one page of data).\n",
    "    \"\"\"\n",
    "    random_data = []\n",
    "    with open(filename, \"r\") as f:\n",
    "        for line in f:\n",
    "            line = line.strip()\n",
    "            # We only parse lines that have the pattern \"P<number> = [ ... ]\"\n",
    "            if line.startswith(\"P\") and \"=\" in line:\n",
    "                # Example line: \"P0 = [1,2,3,4]\"\n",
    "                # Split at \"=\"\n",
    "                _, right_side = line.split(\"=\", maxsplit=1)\n",
    "                # right_side is now \"[1,2,3,4]\"\n",
    "                array_str = right_side.strip()\n",
    "                # Remove the surrounding brackets []\n",
    "                array_str = array_str.strip(\"[]\")\n",
    "                # Split by comma to get each value as a string\n",
    "                values_str = array_str.split(\",\")\n",
    "                # Convert each string to an integer\n",
    "                values = list(map(int, values_str))\n",
    "                random_data.append(values)\n",
    "    return random_data\n"
   ]
  },
  {
   "cell_type": "code",
   "execution_count": 46,
   "id": "37e9bcbb",
   "metadata": {},
   "outputs": [
    {
     "name": "stdout",
     "output_type": "stream",
     "text": [
      "76\n",
      "16384\n"
     ]
    }
   ],
   "source": [
    "randomData = read_random_values(\"nand_random_data.txt\")\n",
    "\n",
    "print (randomData[0][0])\n",
    "print (len(randomData[1023]))"
   ]
  },
  {
   "cell_type": "code",
   "execution_count": 47,
   "id": "946e35a3",
   "metadata": {},
   "outputs": [],
   "source": [
    "def program_block_with_random_data(filename):\n",
    "    # Read all random data from the file into a list of pages\n",
    "    all_pages_data = read_random_values(filename)\n",
    "    \n",
    "    pagePerBlock = 1024\n",
    "    blockno = 0\n",
    "    planeno = 0\n",
    "    pageBytes = 16384  # Make sure this matches the length of data in each page\n",
    "    \n",
    "    # Safety check: ensure we have at least 1024 pages worth of data\n",
    "    if len(all_pages_data) < pagePerBlock:\n",
    "        raise ValueError(\n",
    "            f\"Not enough pages in file! \"\n",
    "            f\"Expected at least {pagePerBlock}, got {len(all_pages_data)}\"\n",
    "        )\n",
    "\n",
    "    # Iterate through each page in the block\n",
    "    for pageno in range(pagePerBlock):\n",
    "        # Build the address for page pageno in blockno\n",
    "        addressCycleStream = build_5_cycle_address(0, pageno, blockno, planeno, 0)\n",
    "        \n",
    "        # Get the data for this page\n",
    "        data = all_pages_data[pageno]\n",
    "        \n",
    "        # Check that the page data matches pageBytes in length\n",
    "        if len(data) != pageBytes:\n",
    "            raise ValueError(\n",
    "                f\"Page {pageno} has {len(data)} bytes, expected {pageBytes} bytes.\"\n",
    "            )\n",
    "        \n",
    "        # Program the page\n",
    "        program_nand_page(addressCycleStream, data)\n",
    "    \n",
    "    # After programming all pages in the block, check status\n",
    "    status_register_check()\n"
   ]
  },
  {
   "cell_type": "code",
   "execution_count": 48,
   "id": "52f3ae51",
   "metadata": {},
   "outputs": [
    {
     "name": "stdout",
     "output_type": "stream",
     "text": [
      "Status:01100000\n",
      "Successfully Done!!\n"
     ]
    }
   ],
   "source": [
    "program_block_with_random_data(\"nand_random_data.txt\")"
   ]
  },
  {
   "cell_type": "code",
   "execution_count": 49,
   "id": "7ab93ced",
   "metadata": {},
   "outputs": [
    {
     "name": "stdout",
     "output_type": "stream",
     "text": [
      "76\n"
     ]
    },
    {
     "data": {
      "text/plain": [
       "16384"
      ]
     },
     "execution_count": 49,
     "metadata": {},
     "output_type": "execute_result"
    }
   ],
   "source": [
    "programData = nand_read_full_page(0, 0)\n",
    "print(programData[0])\n",
    "len(programData)"
   ]
  },
  {
   "cell_type": "code",
   "execution_count": 50,
   "id": "ea78d364",
   "metadata": {},
   "outputs": [],
   "source": [
    "def count_fail_bits(written_data, read_data):\n",
    "    \"\"\"\n",
    "    Compare two byte lists (written_data vs. read_data)\n",
    "    and return the total number of failed bits.\n",
    "    \"\"\"\n",
    "    if len(written_data) != len(read_data):\n",
    "        raise ValueError(\"Data lengths differ; cannot compare.\")\n",
    "\n",
    "    fail_bits = 0\n",
    "    for w, r in zip(written_data, read_data):\n",
    "        xor_val = w ^ r\n",
    "        # Count how many bits are '1' in xor_val\n",
    "        # Option 1: using bin(...).count('1')\n",
    "        # fail_bits += bin(xor_val).count('1')\n",
    "        \n",
    "        # Option 2 (Python 3.10+): using int.bit_count()\n",
    "        fail_bits += xor_val.bit_count()\n",
    "        \n",
    "    return fail_bits\n"
   ]
  },
  {
   "cell_type": "code",
   "execution_count": 51,
   "id": "e96b9c02",
   "metadata": {},
   "outputs": [],
   "source": [
    "def measure_fail_bit_counts(filename, blockno, pagePerBlock=1024):\n",
    "    \"\"\"\n",
    "    Read back each page in a block and compare against the original data from 'filename'.\n",
    "    Return a list of fail-bit counts for each page.\n",
    "    \"\"\"\n",
    "    # Load the original random data from file\n",
    "    all_pages_data = read_random_values(filename)\n",
    "    page_fail_bit_counts = []\n",
    "\n",
    "    for pageno in range(pagePerBlock):\n",
    "        # 1. Read back the programmed page\n",
    "        programData = nand_read_full_page(pageno, blockno)\n",
    "        \n",
    "        # 2. Retrieve the original data for comparison\n",
    "        written_data = all_pages_data[pageno]\n",
    "        \n",
    "        # 3. Count fail bits\n",
    "        fail_bits = count_fail_bits(written_data, programData)\n",
    "        page_fail_bit_counts.append(fail_bits)\n",
    "    \n",
    "    return page_fail_bit_counts\n"
   ]
  },
  {
   "cell_type": "code",
   "execution_count": 58,
   "id": "7a61bc93",
   "metadata": {},
   "outputs": [
    {
     "name": "stdout",
     "output_type": "stream",
     "text": [
      "Status:01100000\n",
      "Successfully Done!!\n",
      "Total fail bits across all pages in block: 337\n"
     ]
    }
   ],
   "source": [
    "filename = \"nand_random_data.txt\"\n",
    "program_block_with_random_data(filename)\n",
    "\n",
    "# 2. Measure fail-bit counts for each page in the block\n",
    "fail_counts = measure_fail_bit_counts(filename, blockno=0, pagePerBlock=1024)\n",
    "\n",
    "# 3. Print or store the results\n",
    "#for page_idx, fbits in enumerate(fail_counts):\n",
    "    #print(f\"Page {page_idx}: {fbits} fail bits\")\n",
    "\n",
    "# Or calculate a total for the block if you wish\n",
    "total_fail_bits = sum(fail_counts)\n",
    "print(f\"Total fail bits across all pages in block: {total_fail_bits}\")\n"
   ]
  },
  {
   "cell_type": "code",
   "execution_count": 59,
   "id": "75be2719",
   "metadata": {},
   "outputs": [],
   "source": [
    "import matplotlib.pyplot as plt\n",
    "\n",
    "def plot_fail_bits_scatter(fail_counts):\n",
    "    \"\"\"\n",
    "    Given a list of fail bit counts (index = page index),\n",
    "    create a scatter plot separating LSB from MSB.\n",
    "    \"\"\"\n",
    "    # Separate pages\n",
    "    lsb_pages = []\n",
    "    msb_pages = [] \n",
    "\n",
    "    for page_idx in range(len(fail_counts)):\n",
    "        if page_idx % 2 == 1:\n",
    "            lsb_pages.append((page_idx, fail_counts[page_idx]))\n",
    "        else:\n",
    "            msb_pages.append((page_idx, fail_counts[page_idx]))\n",
    "\n",
    "    # Unzip the page index (x) and fail-bit count (y) for plotting\n",
    "    x_lsb, y_lsb = zip(*lsb_pages) if lsb_pages else ([], [])\n",
    "    x_msb, y_msb = zip(*msb_pages) if msb_pages else ([], [])\n",
    "    y_msb_jittered = [y + 0.05 for y in y_msb]\n",
    "    \n",
    "    # Create the scatter plot\n",
    "    plt.figure(figsize=(10, 6))\n",
    "    # Plot LSB first\n",
    "    plt.scatter(x_lsb, y_lsb, c=\"red\", marker=\"o\", alpha=0.6, label=\"LSB\", zorder=1)\n",
    "    # Then plot MSB\n",
    "    plt.scatter(x_msb, y_msb_jittered, c=\"blue\", marker=\"x\", alpha=0.8, label=\"MSB\", zorder=2)\n",
    "\n",
    "    plt.title(\"Fail Bit Count per Page\")\n",
    "    plt.xlabel(\"Page Index (0-1023)\")\n",
    "    plt.ylabel(\"Failed Bit Count\")\n",
    "    plt.grid(True)\n",
    "    plt.legend(loc='upper left')\n",
    "    \n",
    "    # Save the figure with high resolution (e.g., 300 dpi)\n",
    "    plt.savefig(\"failure bit count.png\", dpi=300, bbox_inches='tight')\n",
    "    \n",
    "    plt.show()"
   ]
  },
  {
   "cell_type": "code",
   "execution_count": 60,
   "id": "5161cf66",
   "metadata": {},
   "outputs": [
    {
     "name": "stdout",
     "output_type": "stream",
     "text": [
      "Total fail bits in LSB pages = 75\n",
      "Total fail bits in MSB pages = 262\n"
     ]
    },
    {
     "data": {
      "image/png": "[encoded data removed]",
      "text/plain": [
       "<Figure size 1000x600 with 1 Axes>"
      ]
     },
     "metadata": {},
     "output_type": "display_data"
    }
   ],
   "source": [
    "lsb_total_fails = sum(fail_counts[i] for i in range(len(fail_counts)) if i % 2 == 1)\n",
    "msb_total_fails = sum(fail_counts[i] for i in range(len(fail_counts)) if i % 2 == 0)\n",
    "\n",
    "print(f\"Total fail bits in LSB pages = {lsb_total_fails}\")\n",
    "print(f\"Total fail bits in MSB pages = {msb_total_fails}\")\n",
    "plot_fail_bits_scatter(fail_counts)"
   ]
  }
 ],
 "metadata": {
  "kernelspec": {
   "display_name": "Python 3 (ipykernel)",
   "language": "python",
   "name": "python3"
  },
  "language_info": {
   "codemirror_mode": {
    "name": "ipython",
    "version": 3
   },
   "file_extension": ".py",
   "mimetype": "text/x-python",
   "name": "python",
   "nbconvert_exporter": "python",
   "pygments_lexer": "ipython3",
   "version": "3.12.4"
  }
 },
 "nbformat": 4,
 "nbformat_minor": 5
}
