{
 "cells": [
  {
   "cell_type": "code",
   "execution_count": 2,
   "metadata": {},
   "outputs": [],
   "source": [
    "def decode_page_address(page_address: int, pages_per_block: int, planes: int) -> tuple[int, int, int]:\n",
    "    \"\"\"\n",
    "    Decode a linear page address into (page, block, plane_index)\n",
    "    :param page_address:     The straight page address.\n",
    "    :param pages_per_block:  Number of pages in each block.\n",
    "    :param planes:           Number of planes (1, 2, 4, ...).\n",
    "    \n",
    "    :return: (page, block, plane_index)\n",
    "    \"\"\"\n",
    "    page = page_address % pages_per_block # Extract 'page' within a block\n",
    "    block_plane_field = page_address // pages_per_block # Remove 'page' bits to get the combined block/plane field\n",
    "    block = block_plane_field\n",
    "    plane_index = block_plane_field % planes # plane_index = (block_plane_field mod planes) because if planes=2 => 1 bit; if planes=4 => 2 bits\n",
    "  \n",
    "    return (page, block, plane_index)"
   ]
  },
  {
   "cell_type": "code",
   "execution_count": null,
   "metadata": {},
   "outputs": [],
   "source": [
    "def build_5_cycle_address(column: int, page: int, block: int, plane: int, lun: int) -> list[int]:\n",
    "\n",
    "    c1 = column & 0xFF\n",
    "    c2 = (column >> 8) & 0xFF\n",
    "    \n",
    "    c3 = page & 0xFF\n",
    "    \n",
    "    c4 = 0\n",
    "    c4 |= (block & 0x7) << 5\n",
    "    c4 |= (plane & 0x1) << 4\n",
    "    c4 |= (page >> 8) & 0xF\n",
    "    \n",
    "    c5 = 0\n",
    "    c5 |= ((block >> 3) & 0x3F)\n",
    "    c5 |= ((lun & 0x1) << 6)\n",
    "    \n",
    "    return [c1, c2, c3, c4, c5]"
   ]
  },
  {
   "cell_type": "code",
   "execution_count": 4,
   "metadata": {},
   "outputs": [
    {
     "data": {
      "text/plain": [
       "[1, 9, 168, 152, 126]"
      ]
     },
     "execution_count": 4,
     "metadata": {},
     "output_type": "execute_result"
    }
   ],
   "source": [
    "build_5_cycle_address(2305, 2216, 500, 1, 1)"
   ]
  },
  {
   "cell_type": "code",
   "execution_count": 9,
   "metadata": {},
   "outputs": [],
   "source": [
    "def build_3_cycle_address(page: int, block: int, plane: int, lun: int) -> list[int]:\n",
    "\n",
    "    c1 = page & 0xFF\n",
    "    \n",
    "    c2 = 0\n",
    "    c2 |= (block & 0x7) << 5\n",
    "    c2 |= (plane & 0x1) << 4\n",
    "    c2 |= (page >> 8) & 0xF\n",
    "    \n",
    "    c3 = 0\n",
    "    c3 |= ((block >> 3) & 0x3F)\n",
    "    c3 |= ((lun & 0x1) << 6)\n",
    "    \n",
    "    return [c1, c2, c3]"
   ]
  }
 ],
 "metadata": {
  "kernelspec": {
   "display_name": "Python 3 (ipykernel)",
   "language": "python",
   "name": "python3"
  },
  "language_info": {
   "codemirror_mode": {
    "name": "ipython",
    "version": 3
   },
   "file_extension": ".py",
   "mimetype": "text/x-python",
   "name": "python",
   "nbconvert_exporter": "python",
   "pygments_lexer": "ipython3",
   "version": "3.12.4"
  }
 },
 "nbformat": 4,
 "nbformat_minor": 2
}
